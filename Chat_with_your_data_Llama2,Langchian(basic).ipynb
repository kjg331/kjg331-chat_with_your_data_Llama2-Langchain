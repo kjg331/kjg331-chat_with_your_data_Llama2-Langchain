{
  "cells": [
    {
      "cell_type": "markdown",
      "id": "86fc5bb2-017f-434e-8cd6-53ab214a5604",
      "metadata": {
        "id": "86fc5bb2-017f-434e-8cd6-53ab214a5604"
      },
      "source": [
        "# Create a chatbot that works on your documents"
      ]
    },
    {
      "cell_type": "markdown",
      "id": "5151afed",
      "metadata": {
        "id": "5151afed"
      },
      "source": [
        "LangChain has a number of components designed to help build question-answering applications, and RAG applications more generally. To familiarize ourselves with these, we'll build a simple Q&A application over a text data source. Along the way we'll go over a typical Q&A architecture, discuss the relevant LangChain components, and highlight additional resources for more advanced Q&A techniques. We'll also see how LangSmith can help us trace and understand our application. LangSmith will become increasingly helpful as our application grows in complexity."
      ]
    },
    {
      "cell_type": "markdown",
      "id": "2f25cbbd-0938-4e3d-87e4-17a204a03ffb",
      "metadata": {
        "id": "2f25cbbd-0938-4e3d-87e4-17a204a03ffb"
      },
      "source": [
        "## Architecture\n",
        "We'll create a typical RAG application as outlined in the [Q&A introduction](/docs/use_cases/question_answering/), which has two main components:\n",
        "\n",
        "**Indexing**: a pipeline for ingesting data from a source and indexing it. *This usually happens offline.*\n",
        "\n",
        "**Retrieval and generation**: the actual RAG chain, which takes the user query at run time and retrieves the relevant data from the index, then passes that to the model.\n",
        "\n",
        "The full sequence from raw data to answer will look like:\n",
        "\n",
        "#### Indexing\n",
        "1. **Load**: First we need to load our data. We'll use [DocumentLoaders](/docs/modules/data_connection/document_loaders/) for this.\n",
        "2. **Split**: [Text splitters](/docs/modules/data_connection/document_transformers/) break large `Documents` into smaller chunks. This is useful both for indexing data and for passing it in to a model, since large chunks are harder to search over and won't fit in a model's finite context window.\n",
        "3. **Store**: We need somewhere to store and index our splits, so that they can later be searched over. This is often done using a [VectorStore](/docs/modules/data_connection/vectorstores/) and [Embeddings](/docs/modules/data_connection/text_embedding/) model.\n",
        "\n",
        "#### Retrieval and generation\n",
        "4. **Retrieve**: Given a user input, relevant splits are retrieved from storage using a [Retriever](/docs/modules/data_connection/retrievers/).\n",
        "5. **Generate**: A [ChatModel](/docs/modules/model_io/chat/) / [LLM](/docs/modules/model_io/llms/) produces an answer using a prompt that includes the question and the retrieved data"
      ]
    },
    {
      "cell_type": "markdown",
      "id": "487d8d79-5ee9-4aa4-9fdf-cd5f4303e099",
      "metadata": {
        "id": "487d8d79-5ee9-4aa4-9fdf-cd5f4303e099"
      },
      "source": [
        "## Setup\n",
        "\n",
        "### Dependencies\n",
        "\n",
        "We'll use an LLma2 chat model and embeddings and a Chroma vector store in this walkthrough, but everything shown here works with any [ChatModel](/docs/modules/model_io/chat/) or [LLM](/docs/modules/model_io/llms/), [Embeddings](/docs/modules/data_connection/text_embedding/), and [VectorStore](/docs/modules/data_connection/vectorstores/) or [Retriever](/docs/modules/data_connection/retrievers/).\n",
        "\n",
        "We'll use the following packages:"
      ]
    },
    {
      "cell_type": "code",
      "execution_count": 1,
      "id": "28d272cd-4e31-40aa-bbb4-0be0a1f49a14",
      "metadata": {
        "id": "28d272cd-4e31-40aa-bbb4-0be0a1f49a14"
      },
      "outputs": [],
      "source": [
        "%pip install --upgrade --quiet  langchain langchain-community langchainhub langchain-openai chromadb bs4"
      ]
    },
    {
      "cell_type": "code",
      "source": [
        "# GPU llama-cpp-python\n",
        "!CMAKE_ARGS=\"-DLLAMA_CUBLAS=on\" FORCE_CMAKE=1 pip install llama-cpp-python"
      ],
      "metadata": {
        "colab": {
          "base_uri": "https://localhost:8080/"
        },
        "id": "xr3-CvM3VrEO",
        "outputId": "5f848161-e770-4704-b883-ae50d5b4a7bb"
      },
      "id": "xr3-CvM3VrEO",
      "execution_count": 3,
      "outputs": [
        {
          "output_type": "stream",
          "name": "stdout",
          "text": [
            "Requirement already satisfied: llama-cpp-python in /usr/local/lib/python3.10/dist-packages (0.2.30)\n",
            "Requirement already satisfied: typing-extensions>=4.5.0 in /usr/local/lib/python3.10/dist-packages (from llama-cpp-python) (4.9.0)\n",
            "Requirement already satisfied: numpy>=1.20.0 in /usr/local/lib/python3.10/dist-packages (from llama-cpp-python) (1.23.5)\n",
            "Requirement already satisfied: diskcache>=5.6.1 in /usr/local/lib/python3.10/dist-packages (from llama-cpp-python) (5.6.3)\n",
            "Requirement already satisfied: jinja2>=2.11.3 in /usr/local/lib/python3.10/dist-packages (from llama-cpp-python) (3.1.3)\n",
            "Requirement already satisfied: MarkupSafe>=2.0 in /usr/local/lib/python3.10/dist-packages (from jinja2>=2.11.3->llama-cpp-python) (2.1.3)\n"
          ]
        }
      ]
    },
    {
      "cell_type": "code",
      "source": [
        "# For download the models\n",
        "!pip install huggingface_hub"
      ],
      "metadata": {
        "colab": {
          "base_uri": "https://localhost:8080/"
        },
        "id": "ljV0vdau1rtl",
        "outputId": "030bf814-cb8e-4c9f-8c3b-d08fe9e3586e"
      },
      "id": "ljV0vdau1rtl",
      "execution_count": 4,
      "outputs": [
        {
          "output_type": "stream",
          "name": "stdout",
          "text": [
            "Requirement already satisfied: huggingface_hub in /usr/local/lib/python3.10/dist-packages (0.20.2)\n",
            "Requirement already satisfied: filelock in /usr/local/lib/python3.10/dist-packages (from huggingface_hub) (3.13.1)\n",
            "Requirement already satisfied: fsspec>=2023.5.0 in /usr/local/lib/python3.10/dist-packages (from huggingface_hub) (2023.6.0)\n",
            "Requirement already satisfied: requests in /usr/local/lib/python3.10/dist-packages (from huggingface_hub) (2.31.0)\n",
            "Requirement already satisfied: tqdm>=4.42.1 in /usr/local/lib/python3.10/dist-packages (from huggingface_hub) (4.66.1)\n",
            "Requirement already satisfied: pyyaml>=5.1 in /usr/local/lib/python3.10/dist-packages (from huggingface_hub) (6.0.1)\n",
            "Requirement already satisfied: typing-extensions>=3.7.4.3 in /usr/local/lib/python3.10/dist-packages (from huggingface_hub) (4.9.0)\n",
            "Requirement already satisfied: packaging>=20.9 in /usr/local/lib/python3.10/dist-packages (from huggingface_hub) (23.2)\n",
            "Requirement already satisfied: charset-normalizer<4,>=2 in /usr/local/lib/python3.10/dist-packages (from requests->huggingface_hub) (3.3.2)\n",
            "Requirement already satisfied: idna<4,>=2.5 in /usr/local/lib/python3.10/dist-packages (from requests->huggingface_hub) (3.6)\n",
            "Requirement already satisfied: urllib3<3,>=1.21.1 in /usr/local/lib/python3.10/dist-packages (from requests->huggingface_hub) (2.0.7)\n",
            "Requirement already satisfied: certifi>=2017.4.17 in /usr/local/lib/python3.10/dist-packages (from requests->huggingface_hub) (2023.11.17)\n"
          ]
        }
      ]
    },
    {
      "cell_type": "code",
      "source": [
        "from huggingface_hub import hf_hub_download\n",
        "\n",
        "model_name_or_path = \"TheBloke/Llama-2-7B-Chat-GGUF\"\n",
        "model_basename = \"llama-2-7b-chat.Q6_K.gguf\"\n",
        "\n",
        "model_path = hf_hub_download(repo_id=model_name_or_path, filename=model_basename)"
      ],
      "metadata": {
        "colab": {
          "base_uri": "https://localhost:8080/"
        },
        "id": "go0hw8XDV8lJ",
        "outputId": "deb4fc3e-add7-4b9c-d473-8e25c971ae01"
      },
      "id": "go0hw8XDV8lJ",
      "execution_count": 5,
      "outputs": [
        {
          "output_type": "stream",
          "name": "stderr",
          "text": [
            "/usr/local/lib/python3.10/dist-packages/huggingface_hub/utils/_token.py:88: UserWarning: \n",
            "The secret `HF_TOKEN` does not exist in your Colab secrets.\n",
            "To authenticate with the Hugging Face Hub, create a token in your settings tab (https://huggingface.co/settings/tokens), set it as secret in your Google Colab and restart your session.\n",
            "You will be able to reuse this secret in all of your notebooks.\n",
            "Please note that authentication is recommended but still optional to access public models or datasets.\n",
            "  warnings.warn(\n"
          ]
        }
      ]
    },
    {
      "cell_type": "code",
      "source": [
        "from huggingface_hub import notebook_login\n",
        "\n",
        "notebook_login()"
      ],
      "metadata": {
        "colab": {
          "base_uri": "https://localhost:8080/",
          "height": 160,
          "referenced_widgets": [
            "994a594b4d10485593baa95644b85126",
            "f25ffea059ab44eaa2c900313ac7ba4d",
            "e45622cce560481ca4a8d4457b6b7fc3",
            "1430acc934214976a9e150bfd53046b6",
            "63554304b01a456dbef45a807fd535ac",
            "a0f78647fe4d4d2e97abf66f226e8e5a",
            "49a37133797f4178ae71723f818965a3",
            "6010e4c450564bfb83872f239a5f6984",
            "340414578a29403b855aa094f1a6c595",
            "d231fb1f6d7442538109217f1b473daf",
            "4f9666ed3b7048d69300a4b80dd610e9",
            "614c8c30d0e840acb6e0e0bea184ce26",
            "498e30cc7ca643fb855f2678a4a270fc",
            "3d06f4f0a65f42559038bf91dfcc3ad6",
            "3016ebb4b13340ed86fc4d6ddf86e0e9",
            "df8fd34c0d444aec918c5d835e63f8b5",
            "73fd87325c70498e8b5b5d5e9a5cfd5d",
            "92301790b22140c896d8d518f83b682c",
            "c2fd976f2c724006a0e88891fd58fdda",
            "4ba623a577c04b29a13372941d174d09",
            "c9d5f3ec69b340b0976745c4eb38be5a",
            "63f94a84b0684a10a888db90afcb1397",
            "b5843beeb8ee48699e79131099f27157",
            "bf11a8cccf914585a26b61df5d5bb30a",
            "0a863ff947a9464fa70587602cbac071",
            "b805c0a4387c48a48582e356f783d223",
            "f0cbe2ad0500451e914124caecb6feed",
            "2683dd8d51da41199e5aa6cb704461d3",
            "bc74323a07294becbb20ee1a6e5bf6d0",
            "b45e3e396f64471cb82d35b4659e0835",
            "2076b5ace85d48ca813644003af0c8d6",
            "4d74ba2d8bfd45f793c7829d69d86119"
          ]
        },
        "id": "ozLFRz8MWL0g",
        "outputId": "d2c1b31a-611f-4666-e38c-dcde2bfaf2e1"
      },
      "id": "ozLFRz8MWL0g",
      "execution_count": 6,
      "outputs": [
        {
          "output_type": "display_data",
          "data": {
            "text/plain": [
              "VBox(children=(HTML(value='<center> <img\\nsrc=https://huggingface.co/front/assets/huggingface_logo-noborder.sv…"
            ],
            "application/vnd.jupyter.widget-view+json": {
              "version_major": 2,
              "version_minor": 0,
              "model_id": "994a594b4d10485593baa95644b85126"
            }
          },
          "metadata": {}
        }
      ]
    },
    {
      "cell_type": "code",
      "source": [
        "from langchain import hub\n",
        "\n",
        "from langchain.callbacks.manager import CallbackManager\n",
        "from langchain.callbacks.streaming_stdout import StreamingStdOutCallbackHandler\n",
        "from langchain import LlamaCpp"
      ],
      "metadata": {
        "id": "f_hIgHzSPZ4y"
      },
      "id": "f_hIgHzSPZ4y",
      "execution_count": 8,
      "outputs": []
    },
    {
      "cell_type": "code",
      "source": [
        "# Load the LLM Model\n",
        "\n",
        "llm = None\n",
        "llm = LlamaCpp(model_path= model_path, max_tokens=4096,\n",
        "               n_threads=2,\n",
        "               n_gpu_layers=40,\n",
        "               n_batch=16,\n",
        "               callback_manager=CallbackManager([StreamingStdOutCallbackHandler()]),\n",
        "               n_ctx=2048, # Context window\n",
        "               verbose = True,\n",
        "               temperature = 0.0,\n",
        "               repeat_penalty = 1.2\n",
        "               )"
      ],
      "metadata": {
        "colab": {
          "base_uri": "https://localhost:8080/"
        },
        "id": "YB5NSaqaPKP1",
        "outputId": "e33dccd2-9785-4fa1-9ad1-2de546856bdc"
      },
      "id": "YB5NSaqaPKP1",
      "execution_count": 9,
      "outputs": [
        {
          "output_type": "stream",
          "name": "stderr",
          "text": [
            "AVX = 1 | AVX_VNNI = 0 | AVX2 = 1 | AVX512 = 0 | AVX512_VBMI = 0 | AVX512_VNNI = 0 | FMA = 1 | NEON = 0 | ARM_FMA = 0 | F16C = 1 | FP16_VA = 0 | WASM_SIMD = 0 | BLAS = 1 | SSE3 = 1 | SSSE3 = 1 | VSX = 0 | \n"
          ]
        }
      ]
    },
    {
      "cell_type": "markdown",
      "id": "fa6ba684-26cf-4860-904e-a4d51380c134",
      "metadata": {
        "id": "fa6ba684-26cf-4860-904e-a4d51380c134"
      },
      "source": [
        "# 1. Chat with YouTube Transcript\n",
        "\n",
        "In this guide I build a QA app over the [Taiwan election angers China: BBC News Review](https://www.youtube.com/watch?v=1MWX-3ZqcMk) Youtube News from BBC."
      ]
    },
    {
      "cell_type": "code",
      "execution_count": 10,
      "id": "d8a913b1-0eea-442a-8a64-ec73333f104b",
      "metadata": {
        "id": "d8a913b1-0eea-442a-8a64-ec73333f104b"
      },
      "outputs": [],
      "source": [
        "from langchain.text_splitter import RecursiveCharacterTextSplitter\n",
        "from langchain_community.document_loaders import WebBaseLoader\n",
        "from langchain_community.vectorstores import Chroma\n",
        "from langchain_core.output_parsers import StrOutputParser\n",
        "from langchain_core.runnables import RunnablePassthrough\n",
        "from langchain.embeddings import HuggingFaceEmbeddings"
      ]
    },
    {
      "cell_type": "code",
      "source": [
        "!pip install --upgrade --quiet  youtube-transcript-api\n",
        "!pip install --upgrade --quiet  pytube"
      ],
      "metadata": {
        "id": "tkal8c8falvW"
      },
      "id": "tkal8c8falvW",
      "execution_count": 11,
      "outputs": []
    },
    {
      "cell_type": "code",
      "source": [
        "from langchain_community.document_loaders import YoutubeLoader"
      ],
      "metadata": {
        "id": "UaVptIr0H-0I"
      },
      "id": "UaVptIr0H-0I",
      "execution_count": 12,
      "outputs": []
    },
    {
      "cell_type": "code",
      "source": [
        "%pip install --upgrade --quiet  langchain sentence_transformers"
      ],
      "metadata": {
        "id": "S4m_u4_WgX8m"
      },
      "id": "S4m_u4_WgX8m",
      "execution_count": 13,
      "outputs": []
    },
    {
      "cell_type": "code",
      "source": [
        "# Load, chunk and index the contents of the blog.\n",
        "loader = YoutubeLoader.from_youtube_url(\n",
        "    \"https://www.youtube.com/watch?v=1MWX-3ZqcMk\",\n",
        "    add_video_info=True,\n",
        "    language=[\"en-GB\"],\n",
        ")\n",
        "\n",
        "docs = loader.load()\n",
        "\n",
        "text_splitter = RecursiveCharacterTextSplitter(chunk_size=1000, chunk_overlap=200)\n",
        "splits = text_splitter.split_documents(docs)\n",
        "vectorstore = Chroma.from_documents(documents=splits,\n",
        "                                    embedding=HuggingFaceEmbeddings())\n",
        "\n",
        "# Retrieve and generate using the relevant snippets of the blog.\n",
        "retriever = vectorstore.as_retriever()\n",
        "prompt = hub.pull(\"rlm/rag-prompt\")\n",
        "\n",
        "def format_docs(docs):\n",
        "    return \"\\n\\n\".join(doc.page_content for doc in docs)\n",
        "\n",
        "\n",
        "rag_chain = (\n",
        "    {\"context\": retriever | format_docs, \"question\": RunnablePassthrough()}\n",
        "    | prompt\n",
        "    | llm\n",
        "    | StrOutputParser()\n",
        ")"
      ],
      "metadata": {
        "id": "-w0VisWzPtmn"
      },
      "id": "-w0VisWzPtmn",
      "execution_count": 14,
      "outputs": []
    },
    {
      "cell_type": "code",
      "source": [
        "answer_1 = rag_chain.invoke(\"What is the News about?\")"
      ],
      "metadata": {
        "colab": {
          "base_uri": "https://localhost:8080/"
        },
        "id": "-UxXXMy6C7FT",
        "outputId": "3e7504de-91aa-4424-eba6-b1a4e91f2837"
      },
      "id": "-UxXXMy6C7FT",
      "execution_count": 15,
      "outputs": [
        {
          "output_type": "stream",
          "name": "stdout",
          "text": [
            " Taiwan has kept the status quo but the victory hides a transformed political landscape. Beijing is fuming over the election results and their commitment to Taiwan is rock solid."
          ]
        }
      ]
    },
    {
      "cell_type": "code",
      "source": [
        "answer_1"
      ],
      "metadata": {
        "colab": {
          "base_uri": "https://localhost:8080/",
          "height": 54
        },
        "id": "ZMuX4PHTC9st",
        "outputId": "b9abf87c-756e-4e82-e293-071b758447eb"
      },
      "id": "ZMuX4PHTC9st",
      "execution_count": 16,
      "outputs": [
        {
          "output_type": "execute_result",
          "data": {
            "text/plain": [
              "' Taiwan has kept the status quo but the victory hides a transformed political landscape. Beijing is fuming over the election results and their commitment to Taiwan is rock solid.'"
            ],
            "application/vnd.google.colaboratory.intrinsic+json": {
              "type": "string"
            }
          },
          "metadata": {},
          "execution_count": 16
        }
      ]
    },
    {
      "cell_type": "code",
      "source": [
        "answer_2 = rag_chain.invoke(\"What makes China angry with the Taiwan new president?\")"
      ],
      "metadata": {
        "colab": {
          "base_uri": "https://localhost:8080/"
        },
        "id": "o7jwwvoQ7tqq",
        "outputId": "6ee42f3f-bc8a-43e7-dfef-664c15c66b94"
      },
      "id": "o7jwwvoQ7tqq",
      "execution_count": 17,
      "outputs": [
        {
          "output_type": "stream",
          "name": "stderr",
          "text": [
            "Llama.generate: prefix-match hit\n"
          ]
        },
        {
          "output_type": "stream",
          "name": "stdout",
          "text": [
            " Taiwan has kept the status quo by re-electing its current government. China is angry about this because it wants a peaceful reunification, but has also not ruled out the use of force."
          ]
        }
      ]
    },
    {
      "cell_type": "code",
      "source": [
        "answer_2"
      ],
      "metadata": {
        "colab": {
          "base_uri": "https://localhost:8080/",
          "height": 54
        },
        "id": "TkEyfZc075nr",
        "outputId": "5d9c0709-b134-4cf7-a416-bb780c9bd836"
      },
      "id": "TkEyfZc075nr",
      "execution_count": 18,
      "outputs": [
        {
          "output_type": "execute_result",
          "data": {
            "text/plain": [
              "' Taiwan has kept the status quo by re-electing its current government. China is angry about this because it wants a peaceful reunification, but has also not ruled out the use of force.'"
            ],
            "application/vnd.google.colaboratory.intrinsic+json": {
              "type": "string"
            }
          },
          "metadata": {},
          "execution_count": 18
        }
      ]
    },
    {
      "cell_type": "code",
      "execution_count": 19,
      "id": "7cb344e0-c423-400c-a079-964c08e07e32",
      "metadata": {
        "id": "7cb344e0-c423-400c-a079-964c08e07e32"
      },
      "outputs": [],
      "source": [
        "# cleanup\n",
        "vectorstore.delete_collection()"
      ]
    },
    {
      "cell_type": "markdown",
      "source": [
        "# 2. Chat with PDF file"
      ],
      "metadata": {
        "id": "IGLEA8s7DalM"
      },
      "id": "IGLEA8s7DalM"
    },
    {
      "cell_type": "code",
      "source": [
        "from google.colab import drive\n",
        "drive.mount('/content/drive')"
      ],
      "metadata": {
        "colab": {
          "base_uri": "https://localhost:8080/"
        },
        "id": "fqpXn0ow9a4Q",
        "outputId": "259959bf-14ae-4035-dc7c-ff31c3e7b892"
      },
      "id": "fqpXn0ow9a4Q",
      "execution_count": 20,
      "outputs": [
        {
          "output_type": "stream",
          "name": "stdout",
          "text": [
            "Drive already mounted at /content/drive; to attempt to forcibly remount, call drive.mount(\"/content/drive\", force_remount=True).\n"
          ]
        }
      ]
    },
    {
      "cell_type": "code",
      "source": [
        "! pip install pypdf"
      ],
      "metadata": {
        "colab": {
          "base_uri": "https://localhost:8080/"
        },
        "id": "ba4YeiD39a6m",
        "outputId": "a081a82c-05d4-4900-ac8e-b57f4b6e82ae"
      },
      "id": "ba4YeiD39a6m",
      "execution_count": 21,
      "outputs": [
        {
          "output_type": "stream",
          "name": "stdout",
          "text": [
            "Requirement already satisfied: pypdf in /usr/local/lib/python3.10/dist-packages (3.17.4)\n"
          ]
        }
      ]
    },
    {
      "cell_type": "code",
      "source": [
        "from langchain.document_loaders import PyPDFLoader\n",
        "\n",
        "file_path = \"/content/drive/My Drive/Colab Notebooks/langchain_chat_with_your_data/MachineLearning-Lecture01.pdf\"\n",
        "loader = PyPDFLoader(file_path)\n",
        "pages = loader.load()"
      ],
      "metadata": {
        "id": "1jQI2OTZDu2R"
      },
      "id": "1jQI2OTZDu2R",
      "execution_count": 22,
      "outputs": []
    },
    {
      "cell_type": "code",
      "source": [
        "pages[1]"
      ],
      "metadata": {
        "colab": {
          "base_uri": "https://localhost:8080/"
        },
        "id": "LBV6su2eD-eV",
        "outputId": "b53c70c6-a7f9-440b-9fc7-cae368880580"
      },
      "id": "LBV6su2eD-eV",
      "execution_count": 23,
      "outputs": [
        {
          "output_type": "execute_result",
          "data": {
            "text/plain": [
              "Document(page_content=\"many biologers are there here? Wow, just a few, not many. I'm surprised. Anyone from \\nstatistics? Okay, a few. So where are the rest of you from?  \\nStudent : iCME.  \\nInstructor (Andrew Ng) : Say again?  \\nStudent : iCME.  \\nInstructor (Andrew Ng) : iCME. Cool.  \\nStudent : [Inaudible].  \\nInstructor (Andrew Ng) : Civi and what else?  \\nStudent : [Inaudible]  \\nInstructor (Andrew Ng) : Synthesis, [inaudible] systems. Yeah, cool.  \\nStudent : Chemi.  \\nInstructor (Andrew Ng) : Chemi. Cool.  \\nStudent : [Inaudible].  \\nInstructor (Andrew Ng) : Aero/astro. Yes, right. Yeah, okay, cool. Anyone else?  \\nStudent : [Inaudible].  \\nInstructor (Andrew Ng) : Pardon? MSNE. All ri ght. Cool. Yeah.  \\nStudent : [Inaudible].  \\nInstructor (Andrew Ng) : Pardon?  \\nStudent : [Inaudible].  \\nInstructor (Andrew Ng) : Endo —  \\nStudent : [Inaudible].  \\nInstructor (Andrew Ng) : Oh, I see, industry. Okay. Cool. Great, great. So as you can \\ntell from a cross-section of th is class, I think we're a very diverse audience in this room, \\nand that's one of the things that makes this class fun to teach and fun to be in, I think.  \", metadata={'source': '/content/drive/My Drive/Colab Notebooks/langchain_chat_with_your_data/MachineLearning-Lecture01.pdf', 'page': 1})"
            ]
          },
          "metadata": {},
          "execution_count": 23
        }
      ]
    },
    {
      "cell_type": "code",
      "source": [
        "# Load, chunk and index the contents of the blog.\n",
        "file_path = \"/content/drive/My Drive/Colab Notebooks/langchain_chat_with_your_data/MachineLearning-Lecture01.pdf\"\n",
        "loader = PyPDFLoader(file_path)\n",
        "docs = loader.load()\n",
        "\n",
        "text_splitter = RecursiveCharacterTextSplitter(chunk_size=1000, chunk_overlap=200)\n",
        "splits = text_splitter.split_documents(docs)\n",
        "\n",
        "vectorstore = None\n",
        "vectorstore = Chroma.from_documents(documents=splits,\n",
        "                                    embedding=HuggingFaceEmbeddings())\n",
        "\n",
        "# Retrieve and generate using the relevant snippets of the blog.\n",
        "retriever = vectorstore.as_retriever()\n",
        "prompt = hub.pull(\"rlm/rag-prompt\")\n",
        "\n",
        "def format_docs(docs):\n",
        "    return \"\\n\\n\".join(doc.page_content for doc in docs)\n",
        "\n",
        "\n",
        "rag_chain = (\n",
        "    {\"context\": retriever | format_docs, \"question\": RunnablePassthrough()}\n",
        "    | prompt\n",
        "    | llm\n",
        "    | StrOutputParser()\n",
        ")"
      ],
      "metadata": {
        "id": "B08C2INOP1iN"
      },
      "id": "B08C2INOP1iN",
      "execution_count": 24,
      "outputs": []
    },
    {
      "cell_type": "code",
      "source": [
        "answer_1 = rag_chain.invoke(\"What is the pdf file is about?\")"
      ],
      "metadata": {
        "colab": {
          "base_uri": "https://localhost:8080/"
        },
        "id": "mXHOEcfWDu7K",
        "outputId": "9cd14ee8-86f0-4791-8991-f6281b3a4e43"
      },
      "id": "mXHOEcfWDu7K",
      "execution_count": 25,
      "outputs": [
        {
          "output_type": "stream",
          "name": "stderr",
          "text": [
            "Llama.generate: prefix-match hit\n"
          ]
        },
        {
          "output_type": "stream",
          "name": "stdout",
          "text": [
            " Based on the context provided, it appears that the PDF file is related to a machine learning course taught by Andrew Ng. The instructor mentions handouts with guidelines for an end-of-semester project and discusses topics such as online resources, big O notation, data structures, and clustering algorithms."
          ]
        }
      ]
    },
    {
      "cell_type": "code",
      "source": [
        "answer_1"
      ],
      "metadata": {
        "colab": {
          "base_uri": "https://localhost:8080/",
          "height": 73
        },
        "id": "mC2dQBwNJm08",
        "outputId": "578dde2e-3cd5-4a1d-b022-d5b8cdbe9a99"
      },
      "id": "mC2dQBwNJm08",
      "execution_count": 26,
      "outputs": [
        {
          "output_type": "execute_result",
          "data": {
            "text/plain": [
              "' Based on the context provided, it appears that the PDF file is related to a machine learning course taught by Andrew Ng. The instructor mentions handouts with guidelines for an end-of-semester project and discusses topics such as online resources, big O notation, data structures, and clustering algorithms.'"
            ],
            "application/vnd.google.colaboratory.intrinsic+json": {
              "type": "string"
            }
          },
          "metadata": {},
          "execution_count": 26
        }
      ]
    },
    {
      "cell_type": "code",
      "source": [
        "answer_2 = rag_chain.invoke(\"How can I seperate the machine learning model?\")"
      ],
      "metadata": {
        "colab": {
          "base_uri": "https://localhost:8080/"
        },
        "id": "4fvwHy9JJm3E",
        "outputId": "c33a8b95-a762-4bde-961d-42784c42cd5e"
      },
      "id": "4fvwHy9JJm3E",
      "execution_count": 27,
      "outputs": [
        {
          "output_type": "stream",
          "name": "stderr",
          "text": [
            "Llama.generate: prefix-match hit\n"
          ]
        },
        {
          "output_type": "stream",
          "name": "stdout",
          "text": [
            " To separate a machine learning model, one can try to identify the underlying patterns and relationships in the data used for training. This may involve visualizing the data, performing exploratory data analysis (EDA), or using techniques such as feature engineering to extract relevant features from the dataset. Additionally, it is important to understand the assumptions made by the machine learning algorithm being used, as well as any potential biases in the data or model. By understanding these factors and taking appropriate steps to address them, one can improve the performance of the machine learning model and better separate its predictions."
          ]
        }
      ]
    },
    {
      "cell_type": "code",
      "source": [
        "answer_2"
      ],
      "metadata": {
        "colab": {
          "base_uri": "https://localhost:8080/",
          "height": 129
        },
        "id": "8PzSyS9XDu8l",
        "outputId": "f4dd2e75-cac0-4a77-9543-ae45fd45659b"
      },
      "id": "8PzSyS9XDu8l",
      "execution_count": 28,
      "outputs": [
        {
          "output_type": "execute_result",
          "data": {
            "text/plain": [
              "' To separate a machine learning model, one can try to identify the underlying patterns and relationships in the data used for training. This may involve visualizing the data, performing exploratory data analysis (EDA), or using techniques such as feature engineering to extract relevant features from the dataset. Additionally, it is important to understand the assumptions made by the machine learning algorithm being used, as well as any potential biases in the data or model. By understanding these factors and taking appropriate steps to address them, one can improve the performance of the machine learning model and better separate its predictions.'"
            ],
            "application/vnd.google.colaboratory.intrinsic+json": {
              "type": "string"
            }
          },
          "metadata": {},
          "execution_count": 28
        }
      ]
    },
    {
      "cell_type": "code",
      "source": [
        "# cleanup\n",
        "vectorstore.delete_collection()"
      ],
      "metadata": {
        "id": "j2k_8D_oJ9IO"
      },
      "id": "j2k_8D_oJ9IO",
      "execution_count": 60,
      "outputs": []
    },
    {
      "cell_type": "markdown",
      "source": [
        "# Chat with URL\n",
        "\n",
        "In this guide I build a QA app over the [The Illustrated Transformer](https://jalammar.github.io/illustrated-transformer/)"
      ],
      "metadata": {
        "id": "IpRufiNzbn_G"
      },
      "id": "IpRufiNzbn_G"
    },
    {
      "cell_type": "code",
      "source": [
        "from langchain.document_loaders import WebBaseLoader"
      ],
      "metadata": {
        "id": "yuoH1Hn-bwl6"
      },
      "id": "yuoH1Hn-bwl6",
      "execution_count": 61,
      "outputs": []
    },
    {
      "cell_type": "code",
      "source": [
        "# Load, chunk and index the contents of the blog.\n",
        "file_path = \"https://jalammar.github.io/illustrated-transformer/\"\n",
        "loader = WebBaseLoader(file_path)\n",
        "docs = loader.load()\n",
        "\n",
        "text_splitter = RecursiveCharacterTextSplitter(chunk_size=1000, chunk_overlap=200)\n",
        "splits = text_splitter.split_documents(docs)\n",
        "\n",
        "vectorstore = None\n",
        "vectorstore = Chroma.from_documents(documents=splits,\n",
        "                                    embedding=HuggingFaceEmbeddings())\n",
        "\n",
        "# Retrieve and generate using the relevant snippets of the blog.\n",
        "retriever = vectorstore.as_retriever()\n",
        "prompt = hub.pull(\"rlm/rag-prompt\")\n",
        "\n",
        "def format_docs(docs):\n",
        "    return \"\\n\\n\".join(doc.page_content for doc in docs)\n",
        "\n",
        "\n",
        "rag_chain = (\n",
        "    {\"context\": retriever | format_docs, \"question\": RunnablePassthrough()}\n",
        "    | prompt\n",
        "    | llm\n",
        "    | StrOutputParser()\n",
        ")"
      ],
      "metadata": {
        "id": "3foWXQsrbzG8"
      },
      "id": "3foWXQsrbzG8",
      "execution_count": 62,
      "outputs": []
    },
    {
      "cell_type": "code",
      "source": [
        "docs[0]"
      ],
      "metadata": {
        "colab": {
          "base_uri": "https://localhost:8080/"
        },
        "id": "f0rDLD4KbzJw",
        "outputId": "a5460371-5afc-4ce7-d667-98e5fde44c43"
      },
      "id": "f0rDLD4KbzJw",
      "execution_count": 63,
      "outputs": [
        {
          "output_type": "execute_result",
          "data": {
            "text/plain": [
              "Document(page_content='\\n\\n\\nThe Illustrated Transformer – Jay Alammar – Visualizing machine learning one concept at a time.\\n\\n\\n\\n\\n\\n\\n\\n\\n\\n\\n\\n\\n\\n\\n\\n\\n\\n\\n\\n\\n\\n\\n\\n\\n\\n\\n\\n\\n\\n\\n\\n\\n\\n\\n\\n\\n\\nJay Alammar\\nVisualizing machine learning one concept at a time.@JayAlammar on Twitter. YouTube Channel\\n\\n\\nBlog\\nAbout\\n\\n\\n\\n\\n\\n\\nThe Illustrated Transformer\\n\\nDiscussions:\\nHacker News (65 points, 4 comments), Reddit r/MachineLearning (29 points, 3 comments)\\n\\n\\nTranslations: Arabic, Chinese (Simplified) 1, Chinese (Simplified) 2, French 1, French 2, Italian, Japanese, Korean, Persian, Russian, Spanish 1, Spanish 2, Vietnamese\\n\\nWatch: MIT’s Deep Learning State of the Art lecture referencing this post\\n\\nFeatured in courses at Stanford, Harvard, MIT, Princeton, CMU and others\\nIn the previous post, we looked at Attention – a ubiquitous method in modern deep learning models. Attention is a concept that helped improve the performance of neural machine translation applications. In this post, we will look at The Transformer – a model that uses attention to boost the speed with which these models can be trained. The Transformer outperforms the Google Neural Machine Translation model in specific tasks. The biggest benefit, however, comes from how The Transformer lends itself to parallelization. It is in fact Google Cloud’s recommendation to use The Transformer as a reference model to use their Cloud TPU offering. So let’s try to break the model apart and look at how it functions.\\nThe Transformer was proposed in the paper Attention is All You Need. A TensorFlow implementation of it is available as a part of the Tensor2Tensor package. Harvard’s NLP group created a guide annotating the paper with PyTorch implementation. In this post, we will attempt to oversimplify things a bit and introduce the concepts one by one to hopefully make it easier to understand to people without in-depth knowledge of the subject matter.\\n2020 Update: I’ve created a “Narrated Transformer” video which is a gentler approach to the topic:\\n\\n\\n\\nA High-Level Look\\nLet’s begin by looking at the model as a single black box. In a machine translation application, it would take a sentence in one language, and output its translation in another.\\n\\n\\n\\n\\nPopping open that Optimus Prime goodness, we see an encoding component, a decoding component, and connections between them.\\n\\n\\n\\nThe encoding component is a stack of encoders (the paper stacks six of them on top of each other – there’s nothing magical about the number six, one can definitely experiment with other arrangements). The decoding component is a stack of decoders of the same number.\\n\\n\\n\\nThe encoders are all identical in structure (yet they do not share weights). Each one is broken down into two sub-layers:\\n\\n\\n\\nThe encoder’s inputs first flow through a self-attention layer – a layer that helps the encoder look at other words in the input sentence as it encodes a specific word. We’ll look closer at self-attention later in the post.\\nThe outputs of the self-attention layer are fed to a feed-forward neural network. The exact same feed-forward network is independently applied to each position.\\nThe decoder has both those layers, but between them is an attention layer that helps the decoder focus on relevant parts of the input sentence (similar what attention does in seq2seq models).\\n\\n\\n\\nBringing The Tensors Into The Picture\\nNow that we’ve seen the major components of the model, let’s start to look at the various vectors/tensors and how they flow between these components to turn the input of a trained model into an output.\\nAs is the case in NLP applications in general, we begin by turning each input word into a vector using an embedding algorithm.\\n\\n\\n\\n\\n  Each word is embedded into a vector of size 512. We\\'ll represent those vectors with these simple boxes.\\n\\nThe embedding only happens in the bottom-most encoder. The abstraction that is common to all the encoders is that they receive a list of vectors each of the size 512 – In the bottom encoder that would be the word embeddings, but in other encoders, it would be the output of the encoder that’s directly below. The size of this list is hyperparameter we can set – basically it would be the length of the longest sentence in our training dataset.\\nAfter embedding the words in our input sequence, each of them flows through each of the two layers of the encoder.\\n\\n\\n\\n\\nHere we begin to see one key property of the Transformer, which is that the word in each position flows through its own path in the encoder. There are dependencies between these paths in the self-attention layer. The feed-forward layer does not have those dependencies, however, and thus the various paths can be executed in parallel while flowing through the feed-forward layer.\\nNext, we’ll switch up the example to a shorter sentence and we’ll look at what happens in each sub-layer of the encoder.\\nNow We’re Encoding!\\nAs we’ve mentioned already, an encoder receives a list of vectors as input. It processes this list by passing these vectors into a ‘self-attention’ layer, then into a feed-forward neural network, then sends out the output upwards to the next encoder.\\n\\n\\n\\n  The word at each position passes through a self-attention process. Then, they each pass through a feed-forward neural network -- the exact same network with each vector flowing through it separately.\\n\\nSelf-Attention at a High Level\\nDon’t be fooled by me throwing around the word “self-attention” like it’s a concept everyone should be familiar with. I had personally never came across the concept until reading the Attention is All You Need paper. Let us distill how it works.\\nSay the following sentence is an input sentence we want to translate:\\n”The animal didn\\'t cross the street because it was too tired”\\nWhat does “it” in this sentence refer to? Is it referring to the street or to the animal? It’s a simple question to a human, but not as simple to an algorithm.\\nWhen the model is processing the word “it”, self-attention allows it to associate “it” with “animal”.\\nAs the model processes each word (each position in the input sequence), self attention allows it to look at other positions in the input sequence for clues that can help lead to a better encoding for this word.\\nIf you’re familiar with RNNs, think of how maintaining a hidden state allows an RNN to incorporate its representation of previous words/vectors it has processed with the current one it’s processing. Self-attention is the method the Transformer uses to bake the “understanding” of other relevant words into the one we’re currently processing.\\n\\n\\n\\n  As we are encoding the word \"it\" in encoder #5 (the top encoder in the stack), part of the attention mechanism was focusing on \"The Animal\", and baked a part of its representation into the encoding of \"it\".\\n\\nBe sure to check out the Tensor2Tensor notebook where you can load a Transformer model, and examine it using this interactive visualization.\\nSelf-Attention in Detail\\nLet’s first look at how to calculate self-attention using vectors, then proceed to look at how it’s actually implemented – using matrices.\\nThe first step in calculating self-attention is to create three vectors from each of the encoder’s input vectors (in this case, the embedding of each word). So for each word, we create a Query vector, a Key vector, and a Value vector. These vectors are created by multiplying the embedding by three matrices that we trained during the training process.\\nNotice that these new vectors are smaller in dimension than the embedding vector. Their dimensionality is 64, while the embedding and encoder input/output vectors have dimensionality of 512. They don’t HAVE to be smaller, this is an architecture choice to make the computation of multiheaded attention (mostly) constant.\\n\\n\\n\\n\\n  Multiplying x1 by the WQ weight matrix produces q1, the \"query\" vector associated with that word. We end up creating a \"query\", a \"key\", and a \"value\" projection of each word in the input sentence.\\n\\n\\n\\nWhat are the “query”, “key”, and “value” vectors?\\n\\n\\nThey’re abstractions that are useful for calculating and thinking about attention. Once you proceed with reading how attention is calculated below, you’ll know pretty much all you need to know about the role each of these vectors plays.\\nThe second step in calculating self-attention is to calculate a score. Say we’re calculating the self-attention for the first word in this example, “Thinking”. We need to score each word of the input sentence against this word. The score determines how much focus to place on other parts of the input sentence as we encode a word at a certain position.\\nThe score is calculated by taking the dot product of the query vector with the key vector of the respective word we’re scoring. So if we’re processing the self-attention for the word in position #1, the first score would be the dot product of q1 and k1. The second score would be the dot product of q1 and k2.\\n\\n\\n\\n\\n\\n\\nThe third and fourth steps are to divide the scores by 8 (the square root of the dimension of the key vectors used in the paper – 64. This leads to having more stable gradients. There could be other possible values here, but this is the default), then pass the result through a softmax operation. Softmax normalizes the scores so they’re all positive and add up to 1.\\n\\n\\n\\n\\n\\nThis softmax score determines how much each word will be expressed at this position. Clearly the word at this position will have the highest softmax score, but sometimes it’s useful to attend to another word that is relevant to the current word.\\n\\nThe fifth step is to multiply each value vector by the softmax score (in preparation to sum them up). The intuition here is to keep intact the values of the word(s) we want to focus on, and drown-out irrelevant words (by multiplying them by tiny numbers like 0.001, for example).\\nThe sixth step is to sum up the weighted value vectors. This produces the output of the self-attention layer at this position (for the first word).\\n\\n\\n\\n\\n\\nThat concludes the self-attention calculation. The resulting vector is one we can send along to the feed-forward neural network. In the actual implementation, however, this calculation is done in matrix form for faster processing. So let’s look at that now that we’ve seen the intuition of the calculation on the word level.\\nMatrix Calculation of Self-Attention\\nThe first step is to calculate the Query, Key, and Value matrices. We do that by packing our embeddings into a matrix X, and multiplying it by the weight matrices we’ve trained (WQ, WK, WV).\\n\\n\\n\\n  Every row in the X matrix corresponds to a word in the input sentence. We again see the difference in size of the embedding vector (512, or 4 boxes in the figure), and the q/k/v vectors (64, or 3 boxes in the figure)\\n\\n\\nFinally, since we’re dealing with matrices, we can condense steps two through six in one formula to calculate the outputs of the self-attention layer.\\n\\n\\n\\n  The self-attention calculation in matrix form\\n\\n\\n\\nThe Beast With Many Heads\\nThe paper further refined the self-attention layer by adding a mechanism called “multi-headed” attention. This improves the performance of the attention layer in two ways:\\n\\n\\nIt expands the model’s ability to focus on different positions. Yes, in the example above, z1 contains a little bit of every other encoding, but it could be dominated by the actual word itself. If we’re translating a sentence like “The animal didn’t cross the street because it was too tired”, it would be useful to know which word “it” refers to.\\n\\n\\nIt gives the attention layer multiple “representation subspaces”. As we’ll see next, with multi-headed attention we have not only one, but multiple sets of Query/Key/Value weight matrices (the Transformer uses eight attention heads, so we end up with eight sets for each encoder/decoder). Each of these sets is randomly initialized. Then, after training, each set is used to project the input embeddings (or vectors from lower encoders/decoders) into a different representation subspace.\\n\\n\\n\\n\\n\\n   With multi-headed attention, we maintain separate Q/K/V weight matrices for each head resulting in different Q/K/V matrices. As we did before, we multiply X by the WQ/WK/WV matrices to produce Q/K/V matrices.\\n \\n\\nIf we do the same self-attention calculation we outlined above, just eight different times with different weight matrices, we end up with eight different Z matrices\\n\\n\\n\\n\\n\\nThis leaves us with a bit of a challenge. The feed-forward layer is not expecting eight matrices – it’s expecting a single matrix (a vector for each word). So we need a way to condense these eight down into a single matrix.\\nHow do we do that? We concat the matrices then multiply them by an additional weights matrix WO.\\n\\n\\n\\n\\nThat’s pretty much all there is to multi-headed self-attention. It’s quite a handful of matrices, I realize. Let me try to put them all in one visual so we can look at them in one place\\n\\n\\n\\n\\n\\n\\nNow that we have touched upon attention heads, let’s revisit our example from before to see where the different attention heads are focusing as we encode the word “it” in our example sentence:\\n\\n\\n\\n  As we encode the word \"it\", one attention head is focusing most on \"the animal\", while another is focusing on \"tired\" -- in a sense, the model\\'s representation of the word \"it\" bakes in some of the representation of both \"animal\" and \"tired\".\\n\\n\\nIf we add all the attention heads to the picture, however, things can be harder to interpret:\\n\\n\\n\\n\\nRepresenting The Order of The Sequence Using Positional Encoding\\nOne thing that’s missing from the model as we have described it so far is a way to account for the order of the words in the input sequence.\\nTo address this, the transformer adds a vector to each input embedding. These vectors follow a specific pattern that the model learns, which helps it determine the position of each word, or the distance between different words in the sequence. The intuition here is that adding these values to the embeddings provides meaningful distances between the embedding vectors once they’re projected into Q/K/V vectors and during dot-product attention.\\n\\n\\n\\n\\n  To give the model a sense of the order of the words, we add positional encoding vectors -- the values of which follow a specific pattern.\\n\\n\\nIf we assumed the embedding has a dimensionality of 4, the actual positional encodings would look like this:\\n\\n\\n\\n  A real example of positional encoding with a toy embedding size of 4\\n\\n\\nWhat might this pattern look like?\\nIn the following figure, each row corresponds to a positional encoding of a vector. So the first row would be the vector we’d add to the embedding of the first word in an input sequence. Each row contains 512 values – each with a value between 1 and -1. We’ve color-coded them so the pattern is visible.\\n\\n\\n\\n  A real example of positional encoding for 20 words (rows) with an embedding size of 512 (columns). You can see that it appears split in half down the center. That\\'s because the values of the left half are generated by one function (which uses sine), and the right half is generated by another function (which uses cosine). They\\'re then concatenated to form each of the positional encoding vectors.\\n\\nThe formula for positional encoding is described in the paper (section 3.5). You can see the code for generating positional encodings in get_timing_signal_1d(). This is not the only possible method for positional encoding. It, however, gives the advantage of being able to scale to unseen lengths of sequences (e.g. if our trained model is asked to translate a sentence longer than any of those in our training set).\\nJuly 2020 Update: \\nThe positional encoding shown above is from the Tensor2Tensor implementation of the Transformer. The method shown in the paper is slightly different in that it doesn’t directly concatenate, but interweaves the two signals. The following figure shows what that looks like. Here’s the code to generate it:\\n\\n\\n\\n\\nThe Residuals\\nOne detail in the architecture of the encoder that we need to mention before moving on, is that each sub-layer (self-attention, ffnn) in each encoder has a residual connection around it, and is followed by a layer-normalization step.\\n\\n\\n\\n\\nIf we’re to visualize the vectors and the layer-norm operation associated with self attention, it would look like this:\\n\\n\\n\\n\\nThis goes for the sub-layers of the decoder as well. If we’re to think of a Transformer of 2 stacked encoders and decoders, it would look something like this:\\n\\n\\n\\n\\nThe Decoder Side\\nNow that we’ve covered most of the concepts on the encoder side, we basically know how the components of decoders work as well. But let’s take a look at how they work together.\\nThe encoder start by processing the input sequence. The output of the top encoder is then transformed into a set of attention vectors K and V. These are to be used by each decoder in its “encoder-decoder attention” layer which helps the decoder focus on appropriate places in the input sequence:\\n\\n\\n\\n  After finishing the encoding phase, we begin the decoding phase. Each step in the decoding phase outputs an element from the output sequence (the English translation sentence in this case).\\n\\nThe following steps repeat the process until a special  symbol is reached indicating the transformer decoder has completed its output. The output of each step is fed to the bottom decoder in the next time step, and the decoders bubble up their decoding results just like the encoders did. And just like we did with the encoder inputs, we embed and add positional encoding to those decoder inputs to indicate the position of each word.\\n\\n\\n\\n\\nThe self attention layers in the decoder operate in a slightly different way than the one in the encoder:\\nIn the decoder, the self-attention layer is only allowed to attend to earlier positions in the output sequence. This is done by masking future positions (setting them to -inf) before the softmax step in the self-attention calculation.\\nThe “Encoder-Decoder Attention” layer works just like multiheaded self-attention, except it creates its Queries matrix from the layer below it, and takes the Keys and Values matrix from the output of the encoder stack.\\nThe Final Linear and Softmax Layer\\nThe decoder stack outputs a vector of floats. How do we turn that into a word? That’s the job of the final Linear layer which is followed by a Softmax Layer.\\nThe Linear layer is a simple fully connected neural network that projects the vector produced by the stack of decoders, into a much, much larger vector called a logits vector.\\nLet’s assume that our model knows 10,000 unique English words (our model’s “output vocabulary”) that it’s learned from its training dataset. This would make the logits vector 10,000 cells wide – each cell corresponding to the score of a unique word. That is how we interpret the output of the model followed by the Linear layer.\\nThe softmax layer then turns those scores into probabilities (all positive, all add up to 1.0). The cell with the highest probability is chosen, and the word associated with it is produced as the output for this time step.\\n\\n\\n\\n\\n  This figure starts from the bottom with the vector produced as the output of the decoder stack. It is then turned into an output word.\\n\\n\\nRecap Of Training\\nNow that we’ve covered the entire forward-pass process through a trained Transformer, it would be useful to glance at the intuition of training the model.\\nDuring training, an untrained model would go through the exact same forward pass. But since we are training it on a labeled training dataset, we can compare its output with the actual correct output.\\nTo visualize this, let’s assume our output vocabulary only contains six words(“a”, “am”, “i”, “thanks”, “student”, and “<eos>” (short for ‘end of sentence’)).\\n\\n\\n\\n   The output vocabulary of our model is created in the preprocessing phase before we even begin training.\\n \\nOnce we define our output vocabulary, we can use a vector of the same width to indicate each word in our vocabulary. This also known as one-hot encoding. So for example, we can indicate the word “am” using the following vector:\\n\\n\\n\\n  Example: one-hot encoding of our output vocabulary\\n\\nFollowing this recap, let’s discuss the model’s loss function – the metric we are optimizing during the training phase to lead up to a trained and hopefully amazingly accurate model.\\nThe Loss Function\\nSay we are training our model. Say it’s our first step in the training phase, and we’re training it on a simple example – translating “merci” into “thanks”.\\nWhat this means, is that we want the output to be a probability distribution indicating the word “thanks”. But since this model is not yet trained, that’s unlikely to happen just yet.\\n\\n\\n\\n  Since the model\\'s parameters (weights) are all initialized randomly, the (untrained) model produces a probability distribution with arbitrary values for each cell/word. We can compare it with the actual output, then tweak all the model\\'s weights using backpropagation to make the output closer to the desired output.\\n\\n\\nHow do you compare two probability distributions? We simply subtract one from the other. For more details, look at  cross-entropy and Kullback–Leibler divergence.\\nBut note that this is an oversimplified example. More realistically, we’ll use a sentence longer than one word. For example – input: “je suis étudiant” and expected output: “i am a student”. What this really means, is that we want our model to successively output probability distributions where:\\n\\nEach probability distribution is represented by a vector of width vocab_size (6 in our toy example, but more realistically a number like 30,000 or 50,000)\\nThe first probability distribution has the highest probability at the cell associated with the word “i”\\nThe second probability distribution has the highest probability at the cell associated with the word “am”\\nAnd so on, until the fifth output distribution indicates ‘<end of sentence>’ symbol, which also has a cell associated with it from the 10,000 element vocabulary.\\n\\n\\n\\n\\n   The targeted probability distributions we\\'ll train our model against in the training example for one sample sentence.\\n \\n\\nAfter training the model for enough time on a large enough dataset, we would hope the produced probability distributions would look like this:\\n\\n\\n\\n    Hopefully upon training, the model would output the right translation we expect. Of course it\\'s no real indication if this phrase was part of the training dataset (see: cross validation). Notice that every position gets a little bit of probability even if it\\'s unlikely to be the output of that time step -- that\\'s a very useful property of softmax which helps the training process.\\n\\nNow, because the model produces the outputs one at a time, we can assume that the model is selecting the word with the highest probability from that probability distribution and throwing away the rest. That’s one way to do it (called greedy decoding). Another way to do it would be to hold on to, say, the top two words (say, ‘I’ and ‘a’ for example), then in the next step, run the model twice: once assuming the first output position was the word ‘I’, and another time assuming the first output position was the word ‘a’, and whichever version produced less error considering both positions #1 and #2 is kept. We repeat this for positions #2 and #3…etc. This method is called “beam search”, where in our example, beam_size was two (meaning that at all times, two partial hypotheses (unfinished translations) are kept in memory), and top_beams is also two (meaning we’ll return two translations). These are both hyperparameters that you can experiment with.\\nGo Forth And Transform\\nI hope you’ve found this a useful place to start to break the ice with the major concepts of the Transformer. If you want to go deeper, I’d suggest these next steps:\\n\\nRead the Attention Is All You Need paper, the Transformer blog post (Transformer: A Novel Neural Network Architecture for Language Understanding), and the Tensor2Tensor announcement.\\nWatch Łukasz Kaiser’s talk walking through the model and its details\\nPlay with the Jupyter Notebook provided as part of the Tensor2Tensor repo\\nExplore the Tensor2Tensor repo.\\n\\nFollow-up works:\\n\\nDepthwise Separable Convolutions for Neural Machine Translation\\nOne Model To Learn Them All\\nDiscrete Autoencoders for Sequence Models\\nGenerating Wikipedia by Summarizing Long Sequences\\nImage Transformer\\nTraining Tips for the Transformer Model\\nSelf-Attention with Relative Position Representations\\nFast Decoding in Sequence Models using Discrete Latent Variables\\nAdafactor: Adaptive Learning Rates with Sublinear Memory Cost\\n\\nAcknowledgements\\nThanks to Illia Polosukhin, Jakob Uszkoreit, Llion Jones , Lukasz Kaiser, Niki Parmar, and Noam Shazeer for providing feedback on earlier versions of this post.\\nPlease hit me up on Twitter for any corrections or feedback.\\n\\n\\n    Written on June 27, 2018\\n  \\n\\n\\n\\n\\n\\n\\n\\n\\nSubscribe to get notified about upcoming posts by email\\n\\nEmail Address \\n\\n\\n\\n\\n\\n \\n\\n\\n\\n\\n\\n\\n\\n\\nThis work is licensed under a Creative Commons Attribution-NonCommercial-ShareAlike 4.0 International License.\\n\\n\\nAttribution example:\\n\\nAlammar, J (2018). The Illustrated Transformer [Blog post]. Retrieved from https://jalammar.github.io/illustrated-transformer/\\n\\nNote: If you translate any of the posts, let me know so I can link your translation to the original post. My email is in the about page.\\n\\n\\n\\n\\n\\n\\n\\n\\n\\n\\n\\n\\n\\n\\n\\n\\n', metadata={'source': 'https://jalammar.github.io/illustrated-transformer/', 'title': 'The Illustrated Transformer – Jay Alammar – Visualizing machine learning one concept at a time.', 'description': 'Discussions:\\nHacker News (65 points, 4 comments), Reddit r/MachineLearning (29 points, 3 comments)\\n\\n\\nTranslations: Arabic, Chinese (Simplified) 1, Chinese (Simplified) 2, French 1, French 2, Italian, Japanese, Korean, Persian, Russian, Spanish 1, Spanish 2, Vietnamese\\n\\nWatch: MIT’s Deep Learning State of the Art lecture referencing this post\\n\\nFeatured in courses at Stanford, Harvard, MIT, Princeton, CMU and others\\n\\nIn the previous post, we looked at Attention – a ubiquitous method in modern deep learning models. Attention is a concept that helped improve the performance of neural machine translation applications. In this post, we will look at The Transformer – a model that uses attention to boost the speed with which these models can be trained. The Transformer outperforms the Google Neural Machine Translation model in specific tasks. The biggest benefit, however, comes from how The Transformer lends itself to parallelization. It is in fact Google Cloud’s recommendation to use The Transformer as a reference model to use their Cloud TPU offering. So let’s try to break the model apart and look at how it functions.\\n\\nThe Transformer was proposed in the paper Attention is All You Need. A TensorFlow implementation of it is available as a part of the Tensor2Tensor package. Harvard’s NLP group created a guide annotating the paper with PyTorch implementation. In this post, we will attempt to oversimplify things a bit and introduce the concepts one by one to hopefully make it easier to understand to people without in-depth knowledge of the subject matter.\\n\\n2020 Update: I’ve created a “Narrated Transformer” video which is a gentler approach to the topic:\\n\\n\\n\\n\\nA High-Level Look\\nLet’s begin by looking at the model as a single black box. In a machine translation application, it would take a sentence in one language, and output its translation in another.\\n\\n\\n  \\n\\n\\n', 'language': 'No language found.'})"
            ]
          },
          "metadata": {},
          "execution_count": 63
        }
      ]
    },
    {
      "cell_type": "code",
      "source": [
        "answer_1 = rag_chain.invoke(\"What the content is about?\")"
      ],
      "metadata": {
        "colab": {
          "base_uri": "https://localhost:8080/"
        },
        "id": "VxfcBMzkbzLR",
        "outputId": "a5c22438-dbf2-44a3-8fdc-ad539215f74e"
      },
      "id": "VxfcBMzkbzLR",
      "execution_count": 64,
      "outputs": [
        {
          "output_type": "stream",
          "name": "stderr",
          "text": [
            "Llama.generate: prefix-match hit\n"
          ]
        },
        {
          "output_type": "stream",
          "name": "stdout",
          "text": [
            " The content of this passage is about attention mechanisms used in deep learning models, specifically in the Transformer architecture."
          ]
        }
      ]
    },
    {
      "cell_type": "code",
      "source": [
        "answer_1"
      ],
      "metadata": {
        "colab": {
          "base_uri": "https://localhost:8080/",
          "height": 54
        },
        "id": "hpES9z1TbwoY",
        "outputId": "323e82ac-4175-4441-e7fb-92c2fa535217"
      },
      "id": "hpES9z1TbwoY",
      "execution_count": 65,
      "outputs": [
        {
          "output_type": "execute_result",
          "data": {
            "text/plain": [
              "' The content of this passage is about attention mechanisms used in deep learning models, specifically in the Transformer architecture.'"
            ],
            "application/vnd.google.colaboratory.intrinsic+json": {
              "type": "string"
            }
          },
          "metadata": {},
          "execution_count": 65
        }
      ]
    },
    {
      "cell_type": "code",
      "source": [
        "answer_2 = rag_chain.invoke(\"Please explain the concept of the Transformer architecture as easy as possible\")"
      ],
      "metadata": {
        "colab": {
          "base_uri": "https://localhost:8080/"
        },
        "id": "JZfx_InocE9j",
        "outputId": "5982ce1a-a784-4e90-c14b-16a468427c74"
      },
      "id": "JZfx_InocE9j",
      "execution_count": 66,
      "outputs": [
        {
          "output_type": "stream",
          "name": "stderr",
          "text": [
            "Llama.generate: prefix-match hit\n"
          ]
        },
        {
          "output_type": "stream",
          "name": "stdout",
          "text": [
            " The Transformer architecture is an attention-based model that processes input sequences of variable length by parallelizing the computation across all positions in the sequence. It does this by using self-attention mechanisms, which allow different parts of the input to attend to one another and form dependencies between them. Unlike traditional recurrent neural networks (RNNs), which process the input sequentially and have recurrence connections that allow information from previous time steps to influence current step, Transformer models use feedforward neural networks (FNNs) instead, which do not have any recurrence connections and process each position in the sequence independently. This allows for faster computation and more parallelization opportunities, making it particularly well-suited for long input sequences."
          ]
        }
      ]
    },
    {
      "cell_type": "code",
      "source": [
        "answer_2"
      ],
      "metadata": {
        "colab": {
          "base_uri": "https://localhost:8080/",
          "height": 167
        },
        "id": "S5Spcd3acE_s",
        "outputId": "ae191568-30fd-492c-eb33-f1251cff3344"
      },
      "id": "S5Spcd3acE_s",
      "execution_count": 67,
      "outputs": [
        {
          "output_type": "execute_result",
          "data": {
            "text/plain": [
              "' The Transformer architecture is an attention-based model that processes input sequences of variable length by parallelizing the computation across all positions in the sequence. It does this by using self-attention mechanisms, which allow different parts of the input to attend to one another and form dependencies between them. Unlike traditional recurrent neural networks (RNNs), which process the input sequentially and have recurrence connections that allow information from previous time steps to influence current step, Transformer models use feedforward neural networks (FNNs) instead, which do not have any recurrence connections and process each position in the sequence independently. This allows for faster computation and more parallelization opportunities, making it particularly well-suited for long input sequences.'"
            ],
            "application/vnd.google.colaboratory.intrinsic+json": {
              "type": "string"
            }
          },
          "metadata": {},
          "execution_count": 67
        }
      ]
    },
    {
      "cell_type": "code",
      "source": [
        "answer_3 = rag_chain.invoke(\"How can Transformer model calculate the attention?\")"
      ],
      "metadata": {
        "colab": {
          "base_uri": "https://localhost:8080/"
        },
        "id": "IxFiVeP3bwqe",
        "outputId": "4b40a097-5fd9-42f0-baab-52d254326906"
      },
      "id": "IxFiVeP3bwqe",
      "execution_count": 68,
      "outputs": [
        {
          "output_type": "stream",
          "name": "stderr",
          "text": [
            "Llama.generate: prefix-match hit\n"
          ]
        },
        {
          "output_type": "stream",
          "name": "stdout",
          "text": [
            " The Transformer model calculates attention by first creating three vectors from each of the encoder's input vectors, called Query (Q), Key (K), and Value (V). These vectors are created by multiplying the embedding by three matrices that were trained during the training process. Then, the model computes the attention score for each element in the sequence by taking the dot product of the Q and K vectors and applying a softmax function. The scores are then used to compute a weighted sum of the Value vector, resulting in the final output of the self-attention layer."
          ]
        }
      ]
    },
    {
      "cell_type": "code",
      "source": [
        "answer_3"
      ],
      "metadata": {
        "colab": {
          "base_uri": "https://localhost:8080/",
          "height": 110
        },
        "id": "kv39-oYrbwsU",
        "outputId": "e7aac46e-936a-4b2c-d547-097904c10be2"
      },
      "id": "kv39-oYrbwsU",
      "execution_count": 70,
      "outputs": [
        {
          "output_type": "execute_result",
          "data": {
            "text/plain": [
              "\" The Transformer model calculates attention by first creating three vectors from each of the encoder's input vectors, called Query (Q), Key (K), and Value (V). These vectors are created by multiplying the embedding by three matrices that were trained during the training process. Then, the model computes the attention score for each element in the sequence by taking the dot product of the Q and K vectors and applying a softmax function. The scores are then used to compute a weighted sum of the Value vector, resulting in the final output of the self-attention layer.\""
            ],
            "application/vnd.google.colaboratory.intrinsic+json": {
              "type": "string"
            }
          },
          "metadata": {},
          "execution_count": 70
        }
      ]
    },
    {
      "cell_type": "code",
      "source": [
        "answer_4 = rag_chain.invoke(\"How can Transformer model catch the sequence of the words by using FFN?\")"
      ],
      "metadata": {
        "colab": {
          "base_uri": "https://localhost:8080/"
        },
        "id": "T-c90HqUcfSn",
        "outputId": "930cd6a5-1006-4c19-e61f-fb56b699c8e1"
      },
      "id": "T-c90HqUcfSn",
      "execution_count": 71,
      "outputs": [
        {
          "output_type": "stream",
          "name": "stderr",
          "text": [
            "Llama.generate: prefix-match hit\n"
          ]
        },
        {
          "output_type": "stream",
          "name": "stdout",
          "text": [
            " The Transformer model uses FFN to catch the sequence of words by processing each word in parallel while flowing through the feed-forward layer. This allows for efficient computation and parallelization of the attention mechanism across different positions in the input sequence, enabling the model to capture long-range dependencies between words."
          ]
        }
      ]
    },
    {
      "cell_type": "code",
      "source": [
        "answer_4"
      ],
      "metadata": {
        "colab": {
          "base_uri": "https://localhost:8080/",
          "height": 92
        },
        "id": "Kyh0kulzchKF",
        "outputId": "1702fef6-8ab5-4b91-bd2d-7e1177543dbb"
      },
      "id": "Kyh0kulzchKF",
      "execution_count": 72,
      "outputs": [
        {
          "output_type": "execute_result",
          "data": {
            "text/plain": [
              "' The Transformer model uses FFN to catch the sequence of words by processing each word in parallel while flowing through the feed-forward layer. This allows for efficient computation and parallelization of the attention mechanism across different positions in the input sequence, enabling the model to capture long-range dependencies between words.'"
            ],
            "application/vnd.google.colaboratory.intrinsic+json": {
              "type": "string"
            }
          },
          "metadata": {},
          "execution_count": 72
        }
      ]
    },
    {
      "cell_type": "markdown",
      "source": [
        "# Chat with URL(Utilize Beautiful Soup)\n",
        "\n",
        "In this guide I build a QA app over the [Number of foreign visitors to China in 2023 down more than 60% from pre-pandemic levels](https://edition.cnn.com/travel/china-foreign-visitor-number-2023-intl-hnk/index.html) from CNN News"
      ],
      "metadata": {
        "id": "JHC56-DcQ-Mf"
      },
      "id": "JHC56-DcQ-Mf"
    },
    {
      "cell_type": "code",
      "source": [
        "from langchain.document_loaders import WebBaseLoader\n",
        "import bs4"
      ],
      "metadata": {
        "id": "T61w7gpfRAiZ"
      },
      "id": "T61w7gpfRAiZ",
      "execution_count": 37,
      "outputs": []
    },
    {
      "cell_type": "code",
      "source": [
        "# Load, chunk and index the contents of the blog.\n",
        "file_path = \"https://edition.cnn.com/travel/china-foreign-visitor-number-2023-intl-hnk/index.html\"\n",
        "loader = WebBaseLoader(\n",
        "    file_path,\n",
        "    bs_kwargs=dict(\n",
        "        parse_only=bs4.SoupStrainer(\n",
        "            class_=(\"headline__text inline-placeholder\", \"timestamp\", \"article__content\")\n",
        "        )\n",
        "    ),\n",
        ")\n",
        "docs = loader.load()\n",
        "\n",
        "text_splitter = RecursiveCharacterTextSplitter(chunk_size=1000, chunk_overlap=200)\n",
        "splits = text_splitter.split_documents(docs)\n",
        "\n",
        "vectorstore = None\n",
        "vectorstore = Chroma.from_documents(documents=splits,\n",
        "                                    embedding=HuggingFaceEmbeddings())\n",
        "\n",
        "# Retrieve and generate using the relevant snippets of the blog.\n",
        "retriever = vectorstore.as_retriever()\n",
        "prompt = hub.pull(\"rlm/rag-prompt\")\n",
        "\n",
        "def format_docs(docs):\n",
        "    return \"\\n\\n\".join(doc.page_content for doc in docs)\n",
        "\n",
        "\n",
        "rag_chain = (\n",
        "    {\"context\": retriever | format_docs, \"question\": RunnablePassthrough()}\n",
        "    | prompt\n",
        "    | llm\n",
        "    | StrOutputParser()\n",
        ")"
      ],
      "metadata": {
        "id": "rua_Kv2xRAkf"
      },
      "id": "rua_Kv2xRAkf",
      "execution_count": 51,
      "outputs": []
    },
    {
      "cell_type": "code",
      "source": [
        "docs[0]"
      ],
      "metadata": {
        "colab": {
          "base_uri": "https://localhost:8080/"
        },
        "id": "cH9zzN4QR4K5",
        "outputId": "3b19e03c-5cea-4431-d656-09985cfe6671"
      },
      "id": "cH9zzN4QR4K5",
      "execution_count": 46,
      "outputs": [
        {
          "output_type": "execute_result",
          "data": {
            "text/plain": [
              "Document(page_content='\\n      Number of foreign visitors to China in 2023¬†down more than 60% from pre-pandemic levels\\n    \\n  Published\\n        11:03 PM EST, Thu January 18, 2024\\n    \\n      It has been a year since China reopened its borders, but despite loosening its stringent Covid-19 restrictions,¬†foreign travelers have been slow to return to the country with numbers down more than 60% from pre-pandemic levels.\\n  \\n      China‚Äôs border authorities recorded 35.5 million entries and exits by foreign nationals in 2023, according to the National Immigration Administration. That‚Äôs nearly seven times more than the number from 2022, when the country was deep in its three-year self-imposed Covid isolation.\\n  \\n      The 2023 figure is just 36% of the 97.7 million border entries and exits by foreign nationals recorded in 2019, suggesting a long road to full recovery, though momentum picked up toward the end of the year.\\n  \\n      More than half of the border crossings made by foreign travelers in 2023 were recorded in the last three months of the year, according to data from the National Immigration Administration.\\n  \\n      Meanwhile, the number of foreign nationals residing in China has rebounded to 85% of the level it was at the end of 2019, Zhang Ning, a spokeswoman for the administration, said at a news briefing Thursday.\\n  \\n      Chinese authorities issued a total of 711,000 residency permits of various types to foreign nationals living in the country in 2023, Zhang added.\\n  \\n      The latest figures come amid a flurry of attempts by Beijing to lure back foreign tourists and visitors as it seeks ways to boost a sluggish economy.\\n  \\n      This week, China agreed to grant unilateral visa-free entry to citizens of Switzerland and Ireland, after Chinese Premier Li Qiang visited both countries as part of his European trip to attend the World Economic Forum in Davos.\\n  \\n      The announcements add to a series of visa-free treatments China has offered to European and Asian countries over the past months, in a bid to boost weak consumption and business ties.\\n  \\n      In November, Beijing announced a trial program to allow visitors from France, Germany, Italy, the Netherlands, Spain and Malaysia to enter visa-free for 15 days. The policy, which started in December, is set to last 12 months till the end of November this year.\\n  \\n      In December, 118,000 travelers from those six nations entered China without a visa under the new policy, according to the National Immigration Administration, which did not provide a breakdown by country.\\n  \\n      Over 77% of them were visiting for sightseeing, leisure or business activities, the administration said.\\n  \\n      The efforts to woo more international travelers have continued in the new year.\\n  \\n      In early January, Thailand said it had struck a reciprocal agreement with China to permanently wave visa requirements for each other‚Äôs citizens from March.\\n  \\n      China has also made it easier for American tourists to visit by simplifying the visa application process.\\n  \\n      From January 1, travelers from the United States no longer need to submit proof of round-trip air tickets, hotel reservations, their itinerary or an invitation letter to apply for a tourist visa, according to the Chinese Embassy in the United States.\\n  \\n      China ramped up measures to make it easier for international travelers to visit the country in the second half of 2023, following the slow return of visitors in the earlier months.\\n  \\n      In August, it dropped all pre-entry Covid-19 test requirements for inbound passengers, offered business travelers the option to get visas on arrival and exempted visitors from some countries from fingerprint collection.\\n  \\n      Last summer, WeChat and Alipay, China‚Äôs two biggest payment apps that have come to dominate everyday life,¬†finally allowed visitors to link their foreign credit cards,¬†enabling them to book taxis, ride the subway and pay for restaurants, hotels and shops¬†across the near-cashless country.\\n  ', metadata={'source': 'https://edition.cnn.com/travel/china-foreign-visitor-number-2023-intl-hnk/index.html'})"
            ]
          },
          "metadata": {},
          "execution_count": 46
        }
      ]
    },
    {
      "cell_type": "code",
      "source": [
        "answer_1 = rag_chain.invoke(\"What the content is about?\")"
      ],
      "metadata": {
        "colab": {
          "base_uri": "https://localhost:8080/"
        },
        "id": "snNEsW8jRAml",
        "outputId": "b677d0ef-b118-4bc7-e30b-295958fa3788"
      },
      "id": "snNEsW8jRAml",
      "execution_count": 52,
      "outputs": [
        {
          "output_type": "stream",
          "name": "stderr",
          "text": [
            "Llama.generate: prefix-match hit\n"
          ]
        },
        {
          "output_type": "stream",
          "name": "stdout",
          "text": [
            " The content is about China's efforts to make it easier for international travelers to visit the country following a slow return of visitors in earlier months."
          ]
        }
      ]
    },
    {
      "cell_type": "code",
      "source": [
        "answer_1"
      ],
      "metadata": {
        "colab": {
          "base_uri": "https://localhost:8080/",
          "height": 54
        },
        "id": "6qTnHJi8RApF",
        "outputId": "4bddd159-c3c6-44b8-d4ba-f5e068637a3a"
      },
      "id": "6qTnHJi8RApF",
      "execution_count": 53,
      "outputs": [
        {
          "output_type": "execute_result",
          "data": {
            "text/plain": [
              "\" The content is about China's efforts to make it easier for international travelers to visit the country following a slow return of visitors in earlier months.\""
            ],
            "application/vnd.google.colaboratory.intrinsic+json": {
              "type": "string"
            }
          },
          "metadata": {},
          "execution_count": 53
        }
      ]
    },
    {
      "cell_type": "code",
      "source": [
        "answer_2 = rag_chain.invoke(\"What happnened to the Chinese tourism industry?\")"
      ],
      "metadata": {
        "colab": {
          "base_uri": "https://localhost:8080/"
        },
        "id": "-g2s26EfRArg",
        "outputId": "754288dc-eb74-4f90-c3ad-098e3a2c5917"
      },
      "id": "-g2s26EfRArg",
      "execution_count": 54,
      "outputs": [
        {
          "output_type": "stream",
          "name": "stderr",
          "text": [
            "Llama.generate: prefix-match hit\n"
          ]
        },
        {
          "output_type": "stream",
          "name": "stdout",
          "text": [
            " According to the article, China has made efforts to ease travel restrictions for international visitors since reopening its borders a year ago. Despite these efforts, foreign visitor numbers are still down by more than 60% from pre-pandemic levels. The country recorded 35.5 million entries and exits by foreign nationals in 2023, which is nearly seven times the number from 2022 but only 36% of the 97.7 million recorded in 2019."
          ]
        }
      ]
    },
    {
      "cell_type": "code",
      "source": [
        "answer_2"
      ],
      "metadata": {
        "colab": {
          "base_uri": "https://localhost:8080/",
          "height": 92
        },
        "id": "igrGflqJRAtR",
        "outputId": "42387d63-03b3-409e-bab7-8d929952134f"
      },
      "id": "igrGflqJRAtR",
      "execution_count": 55,
      "outputs": [
        {
          "output_type": "execute_result",
          "data": {
            "text/plain": [
              "' According to the article, China has made efforts to ease travel restrictions for international visitors since reopening its borders a year ago. Despite these efforts, foreign visitor numbers are still down by more than 60% from pre-pandemic levels. The country recorded 35.5 million entries and exits by foreign nationals in 2023, which is nearly seven times the number from 2022 but only 36% of the 97.7 million recorded in 2019.'"
            ],
            "application/vnd.google.colaboratory.intrinsic+json": {
              "type": "string"
            }
          },
          "metadata": {},
          "execution_count": 55
        }
      ]
    },
    {
      "cell_type": "code",
      "source": [
        "answer_3 = rag_chain.invoke(\"Plese describe the detailed of the effort that Chiense goverenment did?\")"
      ],
      "metadata": {
        "colab": {
          "base_uri": "https://localhost:8080/"
        },
        "id": "R2JNpiRUUmj7",
        "outputId": "8caa5ff4-61b0-4f5b-ae56-367c93e0e7f2"
      },
      "id": "R2JNpiRUUmj7",
      "execution_count": 56,
      "outputs": [
        {
          "output_type": "stream",
          "name": "stderr",
          "text": [
            "Llama.generate: prefix-match hit\n"
          ]
        },
        {
          "output_type": "stream",
          "name": "stdout",
          "text": [
            " The Chinese government has made efforts to boost weak consumption and business ties by offering visa-free travel to European and Asian countries. In November, China announced a trial program allowing visitors from six nations to enter without a visa for 15 days, which started in December and lasts until the end of November this year. According to the National Immigration Administration, more than half of the border crossings made by foreign travelers in 2023 were recorded in the last three months of the year. The number of foreign nationals residing in China has rebounded to 85% of the level it was at the end of 2019, and Chinese authorities issued a total of 711,000 residency permits of various types to foreign nationals living in the country in 2023. The latest figures come amid attempts by Beijing to lure back foreign tourists and visitors as it seeks ways to boost a sluggish economy."
          ]
        }
      ]
    },
    {
      "cell_type": "code",
      "source": [
        "answer_3"
      ],
      "metadata": {
        "colab": {
          "base_uri": "https://localhost:8080/",
          "height": 167
        },
        "id": "o2thjSshUmv4",
        "outputId": "b0503e0a-14f4-430a-db7e-bdeda3aab398"
      },
      "id": "o2thjSshUmv4",
      "execution_count": 57,
      "outputs": [
        {
          "output_type": "execute_result",
          "data": {
            "text/plain": [
              "' The Chinese government has made efforts to boost weak consumption and business ties by offering visa-free travel to European and Asian countries. In November, China announced a trial program allowing visitors from six nations to enter without a visa for 15 days, which started in December and lasts until the end of November this year. According to the National Immigration Administration, more than half of the border crossings made by foreign travelers in 2023 were recorded in the last three months of the year. The number of foreign nationals residing in China has rebounded to 85% of the level it was at the end of 2019, and Chinese authorities issued a total of 711,000 residency permits of various types to foreign nationals living in the country in 2023. The latest figures come amid attempts by Beijing to lure back foreign tourists and visitors as it seeks ways to boost a sluggish economy.'"
            ],
            "application/vnd.google.colaboratory.intrinsic+json": {
              "type": "string"
            }
          },
          "metadata": {},
          "execution_count": 57
        }
      ]
    },
    {
      "cell_type": "code",
      "source": [
        "answer_4 = rag_chain.invoke(\"How do you think about the effort that Chiense goverenment did?\")"
      ],
      "metadata": {
        "colab": {
          "base_uri": "https://localhost:8080/"
        },
        "id": "5U8Tw-ajU6S1",
        "outputId": "a0c1e241-17d9-4e14-ef04-cff07b9a3bbe"
      },
      "id": "5U8Tw-ajU6S1",
      "execution_count": 58,
      "outputs": [
        {
          "output_type": "stream",
          "name": "stderr",
          "text": [
            "Llama.generate: prefix-match hit\n"
          ]
        },
        {
          "output_type": "stream",
          "name": "stdout",
          "text": [
            " The Chinese government has made efforts to boost weak consumption and business ties by offering visa-free treatments to European and Asian countries. According to the National Immigration Administration, in December, 118,000 travelers from those six nations entered China without a visa under the new policy. While the number of foreign visitors to China in 2023 is down more than 60% from pre-pandemic levels, Chinese authorities issued a total of 711,000 residency permits of various types to foreign nationals living in the country in 2023. Despite these efforts, it has been a year since China reopened its borders and foreign travelers have been slow to return to the country with numbers down more than 60% from pre-pandemic levels."
          ]
        }
      ]
    },
    {
      "cell_type": "code",
      "source": [
        "answer_4"
      ],
      "metadata": {
        "colab": {
          "base_uri": "https://localhost:8080/",
          "height": 148
        },
        "id": "Dvt09aFUU-r-",
        "outputId": "9d1bd2b4-67ad-45f0-ff41-908675b41540"
      },
      "id": "Dvt09aFUU-r-",
      "execution_count": 59,
      "outputs": [
        {
          "output_type": "execute_result",
          "data": {
            "text/plain": [
              "' The Chinese government has made efforts to boost weak consumption and business ties by offering visa-free treatments to European and Asian countries. According to the National Immigration Administration, in December, 118,000 travelers from those six nations entered China without a visa under the new policy. While the number of foreign visitors to China in 2023 is down more than 60% from pre-pandemic levels, Chinese authorities issued a total of 711,000 residency permits of various types to foreign nationals living in the country in 2023. Despite these efforts, it has been a year since China reopened its borders and foreign travelers have been slow to return to the country with numbers down more than 60% from pre-pandemic levels.'"
            ],
            "application/vnd.google.colaboratory.intrinsic+json": {
              "type": "string"
            }
          },
          "metadata": {},
          "execution_count": 59
        }
      ]
    },
    {
      "cell_type": "code",
      "source": [
        "# cleanup\n",
        "vectorstore.delete_collection()"
      ],
      "metadata": {
        "id": "8WdNB5qoU2Ah"
      },
      "id": "8WdNB5qoU2Ah",
      "execution_count": null,
      "outputs": []
    }
  ],
  "metadata": {
    "kernelspec": {
      "display_name": "Python 3",
      "name": "python3"
    },
    "language_info": {
      "codemirror_mode": {
        "name": "ipython",
        "version": 3
      },
      "file_extension": ".py",
      "mimetype": "text/x-python",
      "name": "python",
      "nbconvert_exporter": "python",
      "pygments_lexer": "ipython3",
      "version": "3.9.1"
    },
    "colab": {
      "provenance": [],
      "gpuType": "T4",
      "toc_visible": true
    },
    "accelerator": "GPU",
    "widgets": {
      "application/vnd.jupyter.widget-state+json": {
        "994a594b4d10485593baa95644b85126": {
          "model_module": "@jupyter-widgets/controls",
          "model_name": "VBoxModel",
          "model_module_version": "1.5.0",
          "state": {
            "_dom_classes": [],
            "_model_module": "@jupyter-widgets/controls",
            "_model_module_version": "1.5.0",
            "_model_name": "VBoxModel",
            "_view_count": null,
            "_view_module": "@jupyter-widgets/controls",
            "_view_module_version": "1.5.0",
            "_view_name": "VBoxView",
            "box_style": "",
            "children": [
              "IPY_MODEL_c9d5f3ec69b340b0976745c4eb38be5a",
              "IPY_MODEL_63f94a84b0684a10a888db90afcb1397",
              "IPY_MODEL_b5843beeb8ee48699e79131099f27157",
              "IPY_MODEL_bf11a8cccf914585a26b61df5d5bb30a"
            ],
            "layout": "IPY_MODEL_49a37133797f4178ae71723f818965a3"
          }
        },
        "f25ffea059ab44eaa2c900313ac7ba4d": {
          "model_module": "@jupyter-widgets/controls",
          "model_name": "HTMLModel",
          "model_module_version": "1.5.0",
          "state": {
            "_dom_classes": [],
            "_model_module": "@jupyter-widgets/controls",
            "_model_module_version": "1.5.0",
            "_model_name": "HTMLModel",
            "_view_count": null,
            "_view_module": "@jupyter-widgets/controls",
            "_view_module_version": "1.5.0",
            "_view_name": "HTMLView",
            "description": "",
            "description_tooltip": null,
            "layout": "IPY_MODEL_6010e4c450564bfb83872f239a5f6984",
            "placeholder": "​",
            "style": "IPY_MODEL_340414578a29403b855aa094f1a6c595",
            "value": "<center> <img\nsrc=https://huggingface.co/front/assets/huggingface_logo-noborder.svg\nalt='Hugging Face'> <br> Copy a token from <a\nhref=\"https://huggingface.co/settings/tokens\" target=\"_blank\">your Hugging Face\ntokens page</a> and paste it below. <br> Immediately click login after copying\nyour token or it might be stored in plain text in this notebook file. </center>"
          }
        },
        "e45622cce560481ca4a8d4457b6b7fc3": {
          "model_module": "@jupyter-widgets/controls",
          "model_name": "PasswordModel",
          "model_module_version": "1.5.0",
          "state": {
            "_dom_classes": [],
            "_model_module": "@jupyter-widgets/controls",
            "_model_module_version": "1.5.0",
            "_model_name": "PasswordModel",
            "_view_count": null,
            "_view_module": "@jupyter-widgets/controls",
            "_view_module_version": "1.5.0",
            "_view_name": "PasswordView",
            "continuous_update": true,
            "description": "Token:",
            "description_tooltip": null,
            "disabled": false,
            "layout": "IPY_MODEL_d231fb1f6d7442538109217f1b473daf",
            "placeholder": "​",
            "style": "IPY_MODEL_4f9666ed3b7048d69300a4b80dd610e9",
            "value": ""
          }
        },
        "1430acc934214976a9e150bfd53046b6": {
          "model_module": "@jupyter-widgets/controls",
          "model_name": "CheckboxModel",
          "model_module_version": "1.5.0",
          "state": {
            "_dom_classes": [],
            "_model_module": "@jupyter-widgets/controls",
            "_model_module_version": "1.5.0",
            "_model_name": "CheckboxModel",
            "_view_count": null,
            "_view_module": "@jupyter-widgets/controls",
            "_view_module_version": "1.5.0",
            "_view_name": "CheckboxView",
            "description": "Add token as git credential?",
            "description_tooltip": null,
            "disabled": false,
            "indent": true,
            "layout": "IPY_MODEL_614c8c30d0e840acb6e0e0bea184ce26",
            "style": "IPY_MODEL_498e30cc7ca643fb855f2678a4a270fc",
            "value": true
          }
        },
        "63554304b01a456dbef45a807fd535ac": {
          "model_module": "@jupyter-widgets/controls",
          "model_name": "ButtonModel",
          "model_module_version": "1.5.0",
          "state": {
            "_dom_classes": [],
            "_model_module": "@jupyter-widgets/controls",
            "_model_module_version": "1.5.0",
            "_model_name": "ButtonModel",
            "_view_count": null,
            "_view_module": "@jupyter-widgets/controls",
            "_view_module_version": "1.5.0",
            "_view_name": "ButtonView",
            "button_style": "",
            "description": "Login",
            "disabled": false,
            "icon": "",
            "layout": "IPY_MODEL_3d06f4f0a65f42559038bf91dfcc3ad6",
            "style": "IPY_MODEL_3016ebb4b13340ed86fc4d6ddf86e0e9",
            "tooltip": ""
          }
        },
        "a0f78647fe4d4d2e97abf66f226e8e5a": {
          "model_module": "@jupyter-widgets/controls",
          "model_name": "HTMLModel",
          "model_module_version": "1.5.0",
          "state": {
            "_dom_classes": [],
            "_model_module": "@jupyter-widgets/controls",
            "_model_module_version": "1.5.0",
            "_model_name": "HTMLModel",
            "_view_count": null,
            "_view_module": "@jupyter-widgets/controls",
            "_view_module_version": "1.5.0",
            "_view_name": "HTMLView",
            "description": "",
            "description_tooltip": null,
            "layout": "IPY_MODEL_df8fd34c0d444aec918c5d835e63f8b5",
            "placeholder": "​",
            "style": "IPY_MODEL_73fd87325c70498e8b5b5d5e9a5cfd5d",
            "value": "\n<b>Pro Tip:</b> If you don't already have one, you can create a dedicated\n'notebooks' token with 'write' access, that you can then easily reuse for all\nnotebooks. </center>"
          }
        },
        "49a37133797f4178ae71723f818965a3": {
          "model_module": "@jupyter-widgets/base",
          "model_name": "LayoutModel",
          "model_module_version": "1.2.0",
          "state": {
            "_model_module": "@jupyter-widgets/base",
            "_model_module_version": "1.2.0",
            "_model_name": "LayoutModel",
            "_view_count": null,
            "_view_module": "@jupyter-widgets/base",
            "_view_module_version": "1.2.0",
            "_view_name": "LayoutView",
            "align_content": null,
            "align_items": "center",
            "align_self": null,
            "border": null,
            "bottom": null,
            "display": "flex",
            "flex": null,
            "flex_flow": "column",
            "grid_area": null,
            "grid_auto_columns": null,
            "grid_auto_flow": null,
            "grid_auto_rows": null,
            "grid_column": null,
            "grid_gap": null,
            "grid_row": null,
            "grid_template_areas": null,
            "grid_template_columns": null,
            "grid_template_rows": null,
            "height": null,
            "justify_content": null,
            "justify_items": null,
            "left": null,
            "margin": null,
            "max_height": null,
            "max_width": null,
            "min_height": null,
            "min_width": null,
            "object_fit": null,
            "object_position": null,
            "order": null,
            "overflow": null,
            "overflow_x": null,
            "overflow_y": null,
            "padding": null,
            "right": null,
            "top": null,
            "visibility": null,
            "width": "50%"
          }
        },
        "6010e4c450564bfb83872f239a5f6984": {
          "model_module": "@jupyter-widgets/base",
          "model_name": "LayoutModel",
          "model_module_version": "1.2.0",
          "state": {
            "_model_module": "@jupyter-widgets/base",
            "_model_module_version": "1.2.0",
            "_model_name": "LayoutModel",
            "_view_count": null,
            "_view_module": "@jupyter-widgets/base",
            "_view_module_version": "1.2.0",
            "_view_name": "LayoutView",
            "align_content": null,
            "align_items": null,
            "align_self": null,
            "border": null,
            "bottom": null,
            "display": null,
            "flex": null,
            "flex_flow": null,
            "grid_area": null,
            "grid_auto_columns": null,
            "grid_auto_flow": null,
            "grid_auto_rows": null,
            "grid_column": null,
            "grid_gap": null,
            "grid_row": null,
            "grid_template_areas": null,
            "grid_template_columns": null,
            "grid_template_rows": null,
            "height": null,
            "justify_content": null,
            "justify_items": null,
            "left": null,
            "margin": null,
            "max_height": null,
            "max_width": null,
            "min_height": null,
            "min_width": null,
            "object_fit": null,
            "object_position": null,
            "order": null,
            "overflow": null,
            "overflow_x": null,
            "overflow_y": null,
            "padding": null,
            "right": null,
            "top": null,
            "visibility": null,
            "width": null
          }
        },
        "340414578a29403b855aa094f1a6c595": {
          "model_module": "@jupyter-widgets/controls",
          "model_name": "DescriptionStyleModel",
          "model_module_version": "1.5.0",
          "state": {
            "_model_module": "@jupyter-widgets/controls",
            "_model_module_version": "1.5.0",
            "_model_name": "DescriptionStyleModel",
            "_view_count": null,
            "_view_module": "@jupyter-widgets/base",
            "_view_module_version": "1.2.0",
            "_view_name": "StyleView",
            "description_width": ""
          }
        },
        "d231fb1f6d7442538109217f1b473daf": {
          "model_module": "@jupyter-widgets/base",
          "model_name": "LayoutModel",
          "model_module_version": "1.2.0",
          "state": {
            "_model_module": "@jupyter-widgets/base",
            "_model_module_version": "1.2.0",
            "_model_name": "LayoutModel",
            "_view_count": null,
            "_view_module": "@jupyter-widgets/base",
            "_view_module_version": "1.2.0",
            "_view_name": "LayoutView",
            "align_content": null,
            "align_items": null,
            "align_self": null,
            "border": null,
            "bottom": null,
            "display": null,
            "flex": null,
            "flex_flow": null,
            "grid_area": null,
            "grid_auto_columns": null,
            "grid_auto_flow": null,
            "grid_auto_rows": null,
            "grid_column": null,
            "grid_gap": null,
            "grid_row": null,
            "grid_template_areas": null,
            "grid_template_columns": null,
            "grid_template_rows": null,
            "height": null,
            "justify_content": null,
            "justify_items": null,
            "left": null,
            "margin": null,
            "max_height": null,
            "max_width": null,
            "min_height": null,
            "min_width": null,
            "object_fit": null,
            "object_position": null,
            "order": null,
            "overflow": null,
            "overflow_x": null,
            "overflow_y": null,
            "padding": null,
            "right": null,
            "top": null,
            "visibility": null,
            "width": null
          }
        },
        "4f9666ed3b7048d69300a4b80dd610e9": {
          "model_module": "@jupyter-widgets/controls",
          "model_name": "DescriptionStyleModel",
          "model_module_version": "1.5.0",
          "state": {
            "_model_module": "@jupyter-widgets/controls",
            "_model_module_version": "1.5.0",
            "_model_name": "DescriptionStyleModel",
            "_view_count": null,
            "_view_module": "@jupyter-widgets/base",
            "_view_module_version": "1.2.0",
            "_view_name": "StyleView",
            "description_width": ""
          }
        },
        "614c8c30d0e840acb6e0e0bea184ce26": {
          "model_module": "@jupyter-widgets/base",
          "model_name": "LayoutModel",
          "model_module_version": "1.2.0",
          "state": {
            "_model_module": "@jupyter-widgets/base",
            "_model_module_version": "1.2.0",
            "_model_name": "LayoutModel",
            "_view_count": null,
            "_view_module": "@jupyter-widgets/base",
            "_view_module_version": "1.2.0",
            "_view_name": "LayoutView",
            "align_content": null,
            "align_items": null,
            "align_self": null,
            "border": null,
            "bottom": null,
            "display": null,
            "flex": null,
            "flex_flow": null,
            "grid_area": null,
            "grid_auto_columns": null,
            "grid_auto_flow": null,
            "grid_auto_rows": null,
            "grid_column": null,
            "grid_gap": null,
            "grid_row": null,
            "grid_template_areas": null,
            "grid_template_columns": null,
            "grid_template_rows": null,
            "height": null,
            "justify_content": null,
            "justify_items": null,
            "left": null,
            "margin": null,
            "max_height": null,
            "max_width": null,
            "min_height": null,
            "min_width": null,
            "object_fit": null,
            "object_position": null,
            "order": null,
            "overflow": null,
            "overflow_x": null,
            "overflow_y": null,
            "padding": null,
            "right": null,
            "top": null,
            "visibility": null,
            "width": null
          }
        },
        "498e30cc7ca643fb855f2678a4a270fc": {
          "model_module": "@jupyter-widgets/controls",
          "model_name": "DescriptionStyleModel",
          "model_module_version": "1.5.0",
          "state": {
            "_model_module": "@jupyter-widgets/controls",
            "_model_module_version": "1.5.0",
            "_model_name": "DescriptionStyleModel",
            "_view_count": null,
            "_view_module": "@jupyter-widgets/base",
            "_view_module_version": "1.2.0",
            "_view_name": "StyleView",
            "description_width": ""
          }
        },
        "3d06f4f0a65f42559038bf91dfcc3ad6": {
          "model_module": "@jupyter-widgets/base",
          "model_name": "LayoutModel",
          "model_module_version": "1.2.0",
          "state": {
            "_model_module": "@jupyter-widgets/base",
            "_model_module_version": "1.2.0",
            "_model_name": "LayoutModel",
            "_view_count": null,
            "_view_module": "@jupyter-widgets/base",
            "_view_module_version": "1.2.0",
            "_view_name": "LayoutView",
            "align_content": null,
            "align_items": null,
            "align_self": null,
            "border": null,
            "bottom": null,
            "display": null,
            "flex": null,
            "flex_flow": null,
            "grid_area": null,
            "grid_auto_columns": null,
            "grid_auto_flow": null,
            "grid_auto_rows": null,
            "grid_column": null,
            "grid_gap": null,
            "grid_row": null,
            "grid_template_areas": null,
            "grid_template_columns": null,
            "grid_template_rows": null,
            "height": null,
            "justify_content": null,
            "justify_items": null,
            "left": null,
            "margin": null,
            "max_height": null,
            "max_width": null,
            "min_height": null,
            "min_width": null,
            "object_fit": null,
            "object_position": null,
            "order": null,
            "overflow": null,
            "overflow_x": null,
            "overflow_y": null,
            "padding": null,
            "right": null,
            "top": null,
            "visibility": null,
            "width": null
          }
        },
        "3016ebb4b13340ed86fc4d6ddf86e0e9": {
          "model_module": "@jupyter-widgets/controls",
          "model_name": "ButtonStyleModel",
          "model_module_version": "1.5.0",
          "state": {
            "_model_module": "@jupyter-widgets/controls",
            "_model_module_version": "1.5.0",
            "_model_name": "ButtonStyleModel",
            "_view_count": null,
            "_view_module": "@jupyter-widgets/base",
            "_view_module_version": "1.2.0",
            "_view_name": "StyleView",
            "button_color": null,
            "font_weight": ""
          }
        },
        "df8fd34c0d444aec918c5d835e63f8b5": {
          "model_module": "@jupyter-widgets/base",
          "model_name": "LayoutModel",
          "model_module_version": "1.2.0",
          "state": {
            "_model_module": "@jupyter-widgets/base",
            "_model_module_version": "1.2.0",
            "_model_name": "LayoutModel",
            "_view_count": null,
            "_view_module": "@jupyter-widgets/base",
            "_view_module_version": "1.2.0",
            "_view_name": "LayoutView",
            "align_content": null,
            "align_items": null,
            "align_self": null,
            "border": null,
            "bottom": null,
            "display": null,
            "flex": null,
            "flex_flow": null,
            "grid_area": null,
            "grid_auto_columns": null,
            "grid_auto_flow": null,
            "grid_auto_rows": null,
            "grid_column": null,
            "grid_gap": null,
            "grid_row": null,
            "grid_template_areas": null,
            "grid_template_columns": null,
            "grid_template_rows": null,
            "height": null,
            "justify_content": null,
            "justify_items": null,
            "left": null,
            "margin": null,
            "max_height": null,
            "max_width": null,
            "min_height": null,
            "min_width": null,
            "object_fit": null,
            "object_position": null,
            "order": null,
            "overflow": null,
            "overflow_x": null,
            "overflow_y": null,
            "padding": null,
            "right": null,
            "top": null,
            "visibility": null,
            "width": null
          }
        },
        "73fd87325c70498e8b5b5d5e9a5cfd5d": {
          "model_module": "@jupyter-widgets/controls",
          "model_name": "DescriptionStyleModel",
          "model_module_version": "1.5.0",
          "state": {
            "_model_module": "@jupyter-widgets/controls",
            "_model_module_version": "1.5.0",
            "_model_name": "DescriptionStyleModel",
            "_view_count": null,
            "_view_module": "@jupyter-widgets/base",
            "_view_module_version": "1.2.0",
            "_view_name": "StyleView",
            "description_width": ""
          }
        },
        "92301790b22140c896d8d518f83b682c": {
          "model_module": "@jupyter-widgets/controls",
          "model_name": "LabelModel",
          "model_module_version": "1.5.0",
          "state": {
            "_dom_classes": [],
            "_model_module": "@jupyter-widgets/controls",
            "_model_module_version": "1.5.0",
            "_model_name": "LabelModel",
            "_view_count": null,
            "_view_module": "@jupyter-widgets/controls",
            "_view_module_version": "1.5.0",
            "_view_name": "LabelView",
            "description": "",
            "description_tooltip": null,
            "layout": "IPY_MODEL_c2fd976f2c724006a0e88891fd58fdda",
            "placeholder": "​",
            "style": "IPY_MODEL_4ba623a577c04b29a13372941d174d09",
            "value": "Connecting..."
          }
        },
        "c2fd976f2c724006a0e88891fd58fdda": {
          "model_module": "@jupyter-widgets/base",
          "model_name": "LayoutModel",
          "model_module_version": "1.2.0",
          "state": {
            "_model_module": "@jupyter-widgets/base",
            "_model_module_version": "1.2.0",
            "_model_name": "LayoutModel",
            "_view_count": null,
            "_view_module": "@jupyter-widgets/base",
            "_view_module_version": "1.2.0",
            "_view_name": "LayoutView",
            "align_content": null,
            "align_items": null,
            "align_self": null,
            "border": null,
            "bottom": null,
            "display": null,
            "flex": null,
            "flex_flow": null,
            "grid_area": null,
            "grid_auto_columns": null,
            "grid_auto_flow": null,
            "grid_auto_rows": null,
            "grid_column": null,
            "grid_gap": null,
            "grid_row": null,
            "grid_template_areas": null,
            "grid_template_columns": null,
            "grid_template_rows": null,
            "height": null,
            "justify_content": null,
            "justify_items": null,
            "left": null,
            "margin": null,
            "max_height": null,
            "max_width": null,
            "min_height": null,
            "min_width": null,
            "object_fit": null,
            "object_position": null,
            "order": null,
            "overflow": null,
            "overflow_x": null,
            "overflow_y": null,
            "padding": null,
            "right": null,
            "top": null,
            "visibility": null,
            "width": null
          }
        },
        "4ba623a577c04b29a13372941d174d09": {
          "model_module": "@jupyter-widgets/controls",
          "model_name": "DescriptionStyleModel",
          "model_module_version": "1.5.0",
          "state": {
            "_model_module": "@jupyter-widgets/controls",
            "_model_module_version": "1.5.0",
            "_model_name": "DescriptionStyleModel",
            "_view_count": null,
            "_view_module": "@jupyter-widgets/base",
            "_view_module_version": "1.2.0",
            "_view_name": "StyleView",
            "description_width": ""
          }
        },
        "c9d5f3ec69b340b0976745c4eb38be5a": {
          "model_module": "@jupyter-widgets/controls",
          "model_name": "LabelModel",
          "model_module_version": "1.5.0",
          "state": {
            "_dom_classes": [],
            "_model_module": "@jupyter-widgets/controls",
            "_model_module_version": "1.5.0",
            "_model_name": "LabelModel",
            "_view_count": null,
            "_view_module": "@jupyter-widgets/controls",
            "_view_module_version": "1.5.0",
            "_view_name": "LabelView",
            "description": "",
            "description_tooltip": null,
            "layout": "IPY_MODEL_0a863ff947a9464fa70587602cbac071",
            "placeholder": "​",
            "style": "IPY_MODEL_b805c0a4387c48a48582e356f783d223",
            "value": "Token is valid (permission: read)."
          }
        },
        "63f94a84b0684a10a888db90afcb1397": {
          "model_module": "@jupyter-widgets/controls",
          "model_name": "LabelModel",
          "model_module_version": "1.5.0",
          "state": {
            "_dom_classes": [],
            "_model_module": "@jupyter-widgets/controls",
            "_model_module_version": "1.5.0",
            "_model_name": "LabelModel",
            "_view_count": null,
            "_view_module": "@jupyter-widgets/controls",
            "_view_module_version": "1.5.0",
            "_view_name": "LabelView",
            "description": "",
            "description_tooltip": null,
            "layout": "IPY_MODEL_f0cbe2ad0500451e914124caecb6feed",
            "placeholder": "​",
            "style": "IPY_MODEL_2683dd8d51da41199e5aa6cb704461d3",
            "value": "Your token has been saved in your configured git credential helpers (store)."
          }
        },
        "b5843beeb8ee48699e79131099f27157": {
          "model_module": "@jupyter-widgets/controls",
          "model_name": "LabelModel",
          "model_module_version": "1.5.0",
          "state": {
            "_dom_classes": [],
            "_model_module": "@jupyter-widgets/controls",
            "_model_module_version": "1.5.0",
            "_model_name": "LabelModel",
            "_view_count": null,
            "_view_module": "@jupyter-widgets/controls",
            "_view_module_version": "1.5.0",
            "_view_name": "LabelView",
            "description": "",
            "description_tooltip": null,
            "layout": "IPY_MODEL_bc74323a07294becbb20ee1a6e5bf6d0",
            "placeholder": "​",
            "style": "IPY_MODEL_b45e3e396f64471cb82d35b4659e0835",
            "value": "Your token has been saved to /root/.cache/huggingface/token"
          }
        },
        "bf11a8cccf914585a26b61df5d5bb30a": {
          "model_module": "@jupyter-widgets/controls",
          "model_name": "LabelModel",
          "model_module_version": "1.5.0",
          "state": {
            "_dom_classes": [],
            "_model_module": "@jupyter-widgets/controls",
            "_model_module_version": "1.5.0",
            "_model_name": "LabelModel",
            "_view_count": null,
            "_view_module": "@jupyter-widgets/controls",
            "_view_module_version": "1.5.0",
            "_view_name": "LabelView",
            "description": "",
            "description_tooltip": null,
            "layout": "IPY_MODEL_2076b5ace85d48ca813644003af0c8d6",
            "placeholder": "​",
            "style": "IPY_MODEL_4d74ba2d8bfd45f793c7829d69d86119",
            "value": "Login successful"
          }
        },
        "0a863ff947a9464fa70587602cbac071": {
          "model_module": "@jupyter-widgets/base",
          "model_name": "LayoutModel",
          "model_module_version": "1.2.0",
          "state": {
            "_model_module": "@jupyter-widgets/base",
            "_model_module_version": "1.2.0",
            "_model_name": "LayoutModel",
            "_view_count": null,
            "_view_module": "@jupyter-widgets/base",
            "_view_module_version": "1.2.0",
            "_view_name": "LayoutView",
            "align_content": null,
            "align_items": null,
            "align_self": null,
            "border": null,
            "bottom": null,
            "display": null,
            "flex": null,
            "flex_flow": null,
            "grid_area": null,
            "grid_auto_columns": null,
            "grid_auto_flow": null,
            "grid_auto_rows": null,
            "grid_column": null,
            "grid_gap": null,
            "grid_row": null,
            "grid_template_areas": null,
            "grid_template_columns": null,
            "grid_template_rows": null,
            "height": null,
            "justify_content": null,
            "justify_items": null,
            "left": null,
            "margin": null,
            "max_height": null,
            "max_width": null,
            "min_height": null,
            "min_width": null,
            "object_fit": null,
            "object_position": null,
            "order": null,
            "overflow": null,
            "overflow_x": null,
            "overflow_y": null,
            "padding": null,
            "right": null,
            "top": null,
            "visibility": null,
            "width": null
          }
        },
        "b805c0a4387c48a48582e356f783d223": {
          "model_module": "@jupyter-widgets/controls",
          "model_name": "DescriptionStyleModel",
          "model_module_version": "1.5.0",
          "state": {
            "_model_module": "@jupyter-widgets/controls",
            "_model_module_version": "1.5.0",
            "_model_name": "DescriptionStyleModel",
            "_view_count": null,
            "_view_module": "@jupyter-widgets/base",
            "_view_module_version": "1.2.0",
            "_view_name": "StyleView",
            "description_width": ""
          }
        },
        "f0cbe2ad0500451e914124caecb6feed": {
          "model_module": "@jupyter-widgets/base",
          "model_name": "LayoutModel",
          "model_module_version": "1.2.0",
          "state": {
            "_model_module": "@jupyter-widgets/base",
            "_model_module_version": "1.2.0",
            "_model_name": "LayoutModel",
            "_view_count": null,
            "_view_module": "@jupyter-widgets/base",
            "_view_module_version": "1.2.0",
            "_view_name": "LayoutView",
            "align_content": null,
            "align_items": null,
            "align_self": null,
            "border": null,
            "bottom": null,
            "display": null,
            "flex": null,
            "flex_flow": null,
            "grid_area": null,
            "grid_auto_columns": null,
            "grid_auto_flow": null,
            "grid_auto_rows": null,
            "grid_column": null,
            "grid_gap": null,
            "grid_row": null,
            "grid_template_areas": null,
            "grid_template_columns": null,
            "grid_template_rows": null,
            "height": null,
            "justify_content": null,
            "justify_items": null,
            "left": null,
            "margin": null,
            "max_height": null,
            "max_width": null,
            "min_height": null,
            "min_width": null,
            "object_fit": null,
            "object_position": null,
            "order": null,
            "overflow": null,
            "overflow_x": null,
            "overflow_y": null,
            "padding": null,
            "right": null,
            "top": null,
            "visibility": null,
            "width": null
          }
        },
        "2683dd8d51da41199e5aa6cb704461d3": {
          "model_module": "@jupyter-widgets/controls",
          "model_name": "DescriptionStyleModel",
          "model_module_version": "1.5.0",
          "state": {
            "_model_module": "@jupyter-widgets/controls",
            "_model_module_version": "1.5.0",
            "_model_name": "DescriptionStyleModel",
            "_view_count": null,
            "_view_module": "@jupyter-widgets/base",
            "_view_module_version": "1.2.0",
            "_view_name": "StyleView",
            "description_width": ""
          }
        },
        "bc74323a07294becbb20ee1a6e5bf6d0": {
          "model_module": "@jupyter-widgets/base",
          "model_name": "LayoutModel",
          "model_module_version": "1.2.0",
          "state": {
            "_model_module": "@jupyter-widgets/base",
            "_model_module_version": "1.2.0",
            "_model_name": "LayoutModel",
            "_view_count": null,
            "_view_module": "@jupyter-widgets/base",
            "_view_module_version": "1.2.0",
            "_view_name": "LayoutView",
            "align_content": null,
            "align_items": null,
            "align_self": null,
            "border": null,
            "bottom": null,
            "display": null,
            "flex": null,
            "flex_flow": null,
            "grid_area": null,
            "grid_auto_columns": null,
            "grid_auto_flow": null,
            "grid_auto_rows": null,
            "grid_column": null,
            "grid_gap": null,
            "grid_row": null,
            "grid_template_areas": null,
            "grid_template_columns": null,
            "grid_template_rows": null,
            "height": null,
            "justify_content": null,
            "justify_items": null,
            "left": null,
            "margin": null,
            "max_height": null,
            "max_width": null,
            "min_height": null,
            "min_width": null,
            "object_fit": null,
            "object_position": null,
            "order": null,
            "overflow": null,
            "overflow_x": null,
            "overflow_y": null,
            "padding": null,
            "right": null,
            "top": null,
            "visibility": null,
            "width": null
          }
        },
        "b45e3e396f64471cb82d35b4659e0835": {
          "model_module": "@jupyter-widgets/controls",
          "model_name": "DescriptionStyleModel",
          "model_module_version": "1.5.0",
          "state": {
            "_model_module": "@jupyter-widgets/controls",
            "_model_module_version": "1.5.0",
            "_model_name": "DescriptionStyleModel",
            "_view_count": null,
            "_view_module": "@jupyter-widgets/base",
            "_view_module_version": "1.2.0",
            "_view_name": "StyleView",
            "description_width": ""
          }
        },
        "2076b5ace85d48ca813644003af0c8d6": {
          "model_module": "@jupyter-widgets/base",
          "model_name": "LayoutModel",
          "model_module_version": "1.2.0",
          "state": {
            "_model_module": "@jupyter-widgets/base",
            "_model_module_version": "1.2.0",
            "_model_name": "LayoutModel",
            "_view_count": null,
            "_view_module": "@jupyter-widgets/base",
            "_view_module_version": "1.2.0",
            "_view_name": "LayoutView",
            "align_content": null,
            "align_items": null,
            "align_self": null,
            "border": null,
            "bottom": null,
            "display": null,
            "flex": null,
            "flex_flow": null,
            "grid_area": null,
            "grid_auto_columns": null,
            "grid_auto_flow": null,
            "grid_auto_rows": null,
            "grid_column": null,
            "grid_gap": null,
            "grid_row": null,
            "grid_template_areas": null,
            "grid_template_columns": null,
            "grid_template_rows": null,
            "height": null,
            "justify_content": null,
            "justify_items": null,
            "left": null,
            "margin": null,
            "max_height": null,
            "max_width": null,
            "min_height": null,
            "min_width": null,
            "object_fit": null,
            "object_position": null,
            "order": null,
            "overflow": null,
            "overflow_x": null,
            "overflow_y": null,
            "padding": null,
            "right": null,
            "top": null,
            "visibility": null,
            "width": null
          }
        },
        "4d74ba2d8bfd45f793c7829d69d86119": {
          "model_module": "@jupyter-widgets/controls",
          "model_name": "DescriptionStyleModel",
          "model_module_version": "1.5.0",
          "state": {
            "_model_module": "@jupyter-widgets/controls",
            "_model_module_version": "1.5.0",
            "_model_name": "DescriptionStyleModel",
            "_view_count": null,
            "_view_module": "@jupyter-widgets/base",
            "_view_module_version": "1.2.0",
            "_view_name": "StyleView",
            "description_width": ""
          }
        }
      }
    }
  },
  "nbformat": 4,
  "nbformat_minor": 5
}